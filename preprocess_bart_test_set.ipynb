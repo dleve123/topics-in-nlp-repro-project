{
 "cells": [
  {
   "cell_type": "code",
   "execution_count": 11,
   "metadata": {},
   "outputs": [],
   "source": [
    "from sumtool.storage import get_summaries\n",
    "from datasets import load_dataset"
   ]
  },
  {
   "cell_type": "code",
   "execution_count": 13,
   "metadata": {},
   "outputs": [
    {
     "name": "stderr",
     "output_type": "stream",
     "text": [
      "Using custom data configuration default\n",
      "Reusing dataset xsum (/Users/anton164/.cache/huggingface/datasets/xsum/default/1.2.0/32c23220eadddb1149b16ed2e9430a05293768cfffbdfd151058697d4c11f934)\n",
      "100%|██████████| 3/3 [00:00<00:00, 130.31it/s]\n"
     ]
    },
    {
     "data": {
      "text/plain": [
       "11334"
      ]
     },
     "execution_count": 13,
     "metadata": {},
     "output_type": "execute_result"
    }
   ],
   "source": [
    "def load_data(dataset: str, split: str, model_summaries: str):\n",
    "    data = load_dataset(dataset)[split]\n",
    "\n",
    "    summaries_by_id = get_summaries(dataset, model_summaries)\n",
    "    source_docs_by_id = {doc[\"id\"]: doc[\"document\"] for doc in data}\n",
    "\n",
    "    data = []\n",
    "    for doc_id, summary in summaries_by_id.items():\n",
    "        data.append({\n",
    "            \"document\": source_docs_by_id[doc_id],\n",
    "            \"summary\": summary[\"summary\"],\n",
    "            \"id\": doc_id\n",
    "        })\n",
    "\n",
    "    return data\n",
    "\n",
    "data = load_data(\"xsum\", \"test\", \"facebook-bart-large-xsum\")\n",
    "len(data)"
   ]
  },
  {
   "cell_type": "code",
   "execution_count": null,
   "metadata": {},
   "outputs": [],
   "source": [
    "%%capture\n",
    "import stanza\n",
    "from stanza import Document\n",
    "nlp = stanza.Pipeline('en')"
   ]
  },
  {
   "cell_type": "code",
   "execution_count": 35,
   "metadata": {},
   "outputs": [
    {
     "data": {
      "text/plain": [
       "500"
      ]
     },
     "execution_count": 35,
     "metadata": {},
     "output_type": "execute_result"
    }
   ],
   "source": [
    "start_idx = 4500\n",
    "end_idx = start_idx + 500\n",
    "subset = data[start_idx:end_idx]\n",
    "len(subset)"
   ]
  },
  {
   "cell_type": "code",
   "execution_count": 36,
   "metadata": {},
   "outputs": [
    {
     "name": "stderr",
     "output_type": "stream",
     "text": [
      "100%|██████████| 500/500 [39:28<00:00,  4.74s/it]  \n"
     ]
    }
   ],
   "source": [
    "from preprocessing.make_entity_perturbations import make_perturbations\n",
    "from tqdm import tqdm\n",
    "\n",
    "test_data = []\n",
    "\n",
    "for row in tqdm(subset):\n",
    "    try:\n",
    "        source = row[\"document\"]\n",
    "        gen_summary = row[\"summary\"]\n",
    "\n",
    "        src_doc = nlp(source)\n",
    "        src_doc.build_ents()\n",
    "\n",
    "        tgt_doc = nlp(gen_summary)\n",
    "        tgt_doc.build_ents()\n",
    "\n",
    "        neg_examples, changed_list = make_perturbations(target_text=tgt_doc._text,\n",
    "                                                        target_ents=tgt_doc.ents,\n",
    "                                                        source_ents=src_doc.ents,\n",
    "                                                        is_training_mode=False,\n",
    "                                                        max_perturbation_per_example=10)\n",
    "        \n",
    "        test_data.append({\n",
    "            \"source_text\": source,\n",
    "            \"positive_examples\": [gen_summary],\n",
    "            \"negative_examples\": neg_examples,\n",
    "            \"changed_list\": changed_list\n",
    "        }) \n",
    "    except: \n",
    "        print(\"Failed to process\", row[\"id\"])"
   ]
  },
  {
   "cell_type": "code",
   "execution_count": 37,
   "metadata": {},
   "outputs": [],
   "source": [
    "import json\n",
    "with open(f\"data/inference/test.bart.{start_idx}-{end_idx}.jsonl\", \"w\") as f:\n",
    "    for row in test_data:\n",
    "        f.write(json.dumps(row) + \"\\n\")"
   ]
  }
 ],
 "metadata": {
  "interpreter": {
   "hash": "ac7ebf3c48d2545a080f53c4a55787a9f29dd0b46ecf55c25cf1850888e74b76"
  },
  "kernelspec": {
   "display_name": "Python 3.8.12 ('topics-project')",
   "language": "python",
   "name": "python3"
  },
  "language_info": {
   "codemirror_mode": {
    "name": "ipython",
    "version": 3
   },
   "file_extension": ".py",
   "mimetype": "text/x-python",
   "name": "python",
   "nbconvert_exporter": "python",
   "pygments_lexer": "ipython3",
   "version": "3.8.12"
  },
  "orig_nbformat": 4
 },
 "nbformat": 4,
 "nbformat_minor": 2
}
