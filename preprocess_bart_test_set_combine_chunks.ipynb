{
 "cells": [
  {
   "cell_type": "code",
   "execution_count": 29,
   "metadata": {},
   "outputs": [
    {
     "data": {
      "text/plain": [
       "['test.bart.0-500.jsonl',\n",
       " 'test.bart.500-1000.jsonl',\n",
       " 'test.bart.1000-1500.jsonl',\n",
       " 'test.bart.1500-2000.jsonl',\n",
       " 'test.bart.2000-2500.jsonl',\n",
       " 'test.bart.2500-3000.jsonl',\n",
       " 'test.bart.3000-3500.jsonl',\n",
       " 'test.bart.3500-4000.jsonl',\n",
       " 'test.bart.4000-4500.jsonl',\n",
       " 'test.bart.4500-5000.jsonl',\n",
       " 'test.bart.5000-5500.jsonl',\n",
       " 'test.bart.5500-6000.jsonl',\n",
       " 'test.bart.6000-6500.jsonl',\n",
       " 'test.bart.6500-7000.jsonl',\n",
       " 'test.bart.7000-7001.jsonl',\n",
       " 'test.bart.7500-8000.jsonl',\n",
       " 'test.bart.8000-8500.jsonl',\n",
       " 'test.bart.8500-9000.jsonl',\n",
       " 'test.bart.9000-9500.jsonl',\n",
       " 'test.bart.9500-10000.jsonl',\n",
       " 'test.bart.10000-10500.jsonl',\n",
       " 'test.bart.11000-11500.jsonl']"
      ]
     },
     "execution_count": 29,
     "metadata": {},
     "output_type": "execute_result"
    }
   ],
   "source": [
    "import os\n",
    "import json\n",
    "folder = 'data/inference/'\n",
    "files = sorted([\n",
    "    x for x in os.listdir(folder) \n",
    "    if x.startswith(\"test.bart\") and \"subset\" not in x\n",
    "])\n",
    "files.sort(key=len)\n",
    "files"
   ]
  },
  {
   "cell_type": "code",
   "execution_count": 31,
   "metadata": {},
   "outputs": [
    {
     "name": "stdout",
     "output_type": "stream",
     "text": [
      "test.bart.0-500.jsonl\n",
      "500\n",
      "test.bart.500-1000.jsonl\n",
      "500\n",
      "test.bart.1000-1500.jsonl\n",
      "499\n",
      "test.bart.1500-2000.jsonl\n",
      "499\n",
      "test.bart.2000-2500.jsonl\n",
      "500\n",
      "test.bart.2500-3000.jsonl\n",
      "499\n",
      "test.bart.3000-3500.jsonl\n",
      "499\n",
      "test.bart.3500-4000.jsonl\n",
      "499\n",
      "test.bart.4000-4500.jsonl\n",
      "500\n",
      "test.bart.4500-5000.jsonl\n",
      "500\n",
      "test.bart.5000-5500.jsonl\n",
      "500\n",
      "test.bart.5500-6000.jsonl\n",
      "500\n",
      "test.bart.6000-6500.jsonl\n",
      "499\n",
      "test.bart.6500-7000.jsonl\n",
      "500\n",
      "test.bart.7000-7001.jsonl\n",
      "1\n",
      "test.bart.7500-8000.jsonl\n",
      "499\n",
      "test.bart.8000-8500.jsonl\n",
      "500\n",
      "test.bart.8500-9000.jsonl\n",
      "500\n",
      "test.bart.9000-9500.jsonl\n",
      "500\n",
      "test.bart.9500-10000.jsonl\n",
      "500\n",
      "test.bart.10000-10500.jsonl\n",
      "500\n",
      "test.bart.11000-11500.jsonl\n",
      "334\n",
      "Count: 10328 with neg: 6198 (60.01%)\n"
     ]
    }
   ],
   "source": [
    "with_negative_examples = 0\n",
    "combined_lines = []\n",
    "for filename in files:\n",
    "    with open(folder + filename, \"r\") as f:\n",
    "        chunk_size = 0\n",
    "        for line in f:\n",
    "            combined_lines.append(line)\n",
    "                \n",
    "            obj = json.loads(line)\n",
    "            if len(obj[\"negative_examples\"]) > 0:\n",
    "                with_negative_examples += 1\n",
    "            chunk_size += 1\n",
    "        print(f\"{filename}: {chunk_size}\")\n",
    "\n",
    "count = len(combined_lines)\n",
    "print(f\"Count: {count} with neg: {with_negative_examples} ({with_negative_examples / count:.2%})\")"
   ]
  },
  {
   "cell_type": "code",
   "execution_count": 26,
   "metadata": {},
   "outputs": [],
   "source": [
    "with open(\"data/inference/test.bart.jsonl\", \"w\") as f:\n",
    "    for line in combined_lines:\n",
    "        f.write(line)"
   ]
  }
 ],
 "metadata": {
  "interpreter": {
   "hash": "ac7ebf3c48d2545a080f53c4a55787a9f29dd0b46ecf55c25cf1850888e74b76"
  },
  "kernelspec": {
   "display_name": "Python 3.8.12 ('topics-project')",
   "language": "python",
   "name": "python3"
  },
  "language_info": {
   "codemirror_mode": {
    "name": "ipython",
    "version": 3
   },
   "file_extension": ".py",
   "mimetype": "text/x-python",
   "name": "python",
   "nbconvert_exporter": "python",
   "pygments_lexer": "ipython3",
   "version": "3.8.12"
  },
  "orig_nbformat": 4
 },
 "nbformat": 4,
 "nbformat_minor": 2
}
