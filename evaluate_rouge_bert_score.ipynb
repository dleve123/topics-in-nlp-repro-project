{
  "cells": [
    {
      "cell_type": "code",
      "execution_count": 1,
      "metadata": {
        "colab": {
          "base_uri": "https://localhost:8080/"
        },
        "id": "DwPgWMkvIZyV",
        "outputId": "6e1db198-844f-4c57-e620-92d49b2f262d"
      },
      "outputs": [
        {
          "output_type": "stream",
          "name": "stdout",
          "text": [
            "Mounted at /content/gdrive\n"
          ]
        }
      ],
      "source": [
        "from google.colab import drive\n",
        "drive.mount('/content/gdrive', force_remount=True)"
      ]
    },
    {
      "cell_type": "code",
      "execution_count": 2,
      "metadata": {
        "colab": {
          "base_uri": "https://localhost:8080/"
        },
        "id": "wxFPZJAPB9dO",
        "outputId": "6711597f-2ec6-44fd-f2d9-1fe5846088c9"
      },
      "outputs": [
        {
          "output_type": "stream",
          "name": "stdout",
          "text": [
            "Cloning into 'topics-in-nlp-repro-project'...\n",
            "remote: Enumerating objects: 353, done.\u001b[K\n",
            "remote: Counting objects: 100% (353/353), done.\u001b[K\n",
            "remote: Compressing objects: 100% (229/229), done.\u001b[K\n",
            "remote: Total 353 (delta 167), reused 272 (delta 103), pack-reused 0\u001b[K\n",
            "Receiving objects: 100% (353/353), 2.16 MiB | 3.88 MiB/s, done.\n",
            "Resolving deltas: 100% (167/167), done.\n"
          ]
        }
      ],
      "source": [
        "! git clone https://github.com/dleve123/topics-in-nlp-repro-project.git"
      ]
    },
    {
      "cell_type": "code",
      "execution_count": 3,
      "metadata": {
        "colab": {
          "base_uri": "https://localhost:8080/"
        },
        "id": "_k5y0Lt7Knu-",
        "outputId": "22bbd85f-d4a1-40d0-880f-8e9db16be87f"
      },
      "outputs": [
        {
          "output_type": "stream",
          "name": "stdout",
          "text": [
            "/content/topics-in-nlp-repro-project\n",
            "Already on 'main'\n",
            "Your branch is up to date with 'origin/main'.\n"
          ]
        }
      ],
      "source": [
        "%cd topics-in-nlp-repro-project\n",
        "! git checkout main"
      ]
    },
    {
      "cell_type": "code",
      "execution_count": 4,
      "metadata": {
        "colab": {
          "base_uri": "https://localhost:8080/"
        },
        "id": "4ISSzchEVwcT",
        "outputId": "10da0f92-a873-4349-af7e-7dc1ed821fc9"
      },
      "outputs": [
        {
          "output_type": "stream",
          "name": "stdout",
          "text": [
            "HEAD is now at b16ea2a Update README.md\n"
          ]
        }
      ],
      "source": [
        "! git fetch\n",
        "! git reset --hard origin/main"
      ]
    },
    {
      "cell_type": "code",
      "execution_count": 5,
      "metadata": {
        "id": "FyyIvZMNLPJ9"
      },
      "outputs": [],
      "source": [
        "%%capture\n",
        "! pip install -r requirements.txt"
      ]
    },
    {
      "cell_type": "code",
      "execution_count": null,
      "metadata": {
        "colab": {
          "base_uri": "https://localhost:8080/"
        },
        "id": "GSYVQLbd7E3g",
        "outputId": "c9f85ce9-6785-4f62-dee0-fb485bbdd917"
      },
      "outputs": [
        {
          "name": "stdout",
          "output_type": "stream",
          "text": [
            "Using custom data configuration default\n",
            "Reusing dataset xsum (/root/.cache/huggingface/datasets/xsum/default/1.2.0/32c23220eadddb1149b16ed2e9430a05293768cfffbdfd151058697d4c11f934)\n",
            "\r  0% 0/3 [00:00<?, ?it/s]\r100% 3/3 [00:00<00:00, 540.71it/s]\n",
            "Some weights of the model checkpoint at roberta-large were not used when initializing RobertaModel: ['lm_head.dense.bias', 'lm_head.layer_norm.bias', 'lm_head.dense.weight', 'lm_head.layer_norm.weight', 'lm_head.decoder.weight', 'lm_head.bias']\n",
            "- This IS expected if you are initializing RobertaModel from the checkpoint of a model trained on another task or with another architecture (e.g. initializing a BertForSequenceClassification model from a BertForPreTraining model).\n",
            "- This IS NOT expected if you are initializing RobertaModel from the checkpoint of a model that you expect to be exactly identical (initializing a BertForSequenceClassification model from a BertForSequenceClassification model).\n",
            "P=0.926325 R=0.917188 F=0.921628\n",
            "calculated 11334 scores, saving to storage..\n"
          ]
        }
      ],
      "source": [
        "! python eval_bert_score.py xsum/test facebook-bart-large-xsum"
      ]
    },
    {
      "cell_type": "markdown",
      "metadata": {
        "id": "si-AbYxGpv0X"
      },
      "source": [
        "## Validate that we get the same results for paper-published data"
      ]
    },
    {
      "cell_type": "code",
      "execution_count": null,
      "metadata": {
        "id": "KreDjtqXpyjj"
      },
      "outputs": [],
      "source": [
        "gen_sums = []\n",
        "gt_sums = []\n",
        "corrected_sums = []\n",
        "source_docs = []\n",
        "\n",
        "with open(\"./validate_results/bart.part.txt\", \"r\") as f:\n",
        "    for line in f:\n",
        "        gen_sums.append(line.strip().lower())\n",
        "\n",
        "with open(\"./validate_results/target.part.txt\", \"r\") as f:\n",
        "    for line in f:\n",
        "        gt_sums.append(line.strip().lower())\n",
        "\n",
        "with open(\"./validate_results/corrected.part.txt\", \"r\") as f:\n",
        "    for line in f:\n",
        "        corrected_sums.append(line.strip().lower())\n",
        "\n",
        "with open(\"./validate_results/source.part.txt\", \"r\") as f:\n",
        "    for line in f:\n",
        "        source_docs.append(line.strip().lower())"
      ]
    },
    {
      "cell_type": "code",
      "execution_count": null,
      "metadata": {
        "colab": {
          "base_uri": "https://localhost:8080/"
        },
        "id": "8C48fZ5Bp1pN",
        "outputId": "e416f6c6-a4b5-4286-ae4a-823b6ae070f7"
      },
      "outputs": [
        {
          "name": "stdout",
          "output_type": "stream",
          "text": [
            "Rouge Scores\n",
            "BART-large, paper: 38.63, ours: 37.80, diff: 0.83\n",
            "Corrected, paper: 36.62, ours: 35.81, diff: 0.81\n"
          ]
        }
      ],
      "source": [
        "import numpy as np\n",
        "from rouge_score import rouge_scorer\n",
        "\n",
        "rouge_l_scorer = rouge_scorer.RougeScorer(\n",
        "    ['rougeLsum'],\n",
        "    use_stemmer=True\n",
        ")\n",
        "\n",
        "bart_rouge_scores = []\n",
        "corrected_rouge_scores = []\n",
        "for gt_summary, bart_summary, corrected_summary in zip(gt_sums, gen_sums, corrected_sums):\n",
        "    bart_rouge_scores.append(\n",
        "        rouge_l_scorer.score(gt_summary, bart_summary)['rougeLsum'].fmeasure\n",
        "    )\n",
        "    corrected_rouge_scores.append(\n",
        "        rouge_l_scorer.score(gt_summary, corrected_summary)['rougeLsum'].fmeasure\n",
        "    )\n",
        "\n",
        "paper_bart = 38.63\n",
        "paper_corrected = 36.62\n",
        "our_bart = np.mean(bart_rouge_scores) * 100\n",
        "our_corrected = np.mean(corrected_rouge_scores) * 100\n",
        "\n",
        "print(\"Rouge Scores\")\n",
        "print(f\"BART-large, paper: {paper_bart}, ours: {our_bart:.2f}, diff: {(paper_bart - our_bart):.2f}\")\n",
        "print(f\"Corrected, paper: {paper_corrected}, ours: {our_corrected:.2f}, diff: {(paper_corrected - our_corrected):.2f}\")\n"
      ]
    },
    {
      "cell_type": "code",
      "execution_count": null,
      "metadata": {
        "id": "zNnUxUdcL9vL"
      },
      "outputs": [],
      "source": [
        "# Backwards-compatibility for bert-score\n",
        "! pip install transformers==3.5.1\n",
        "! pip install bert-score==0.3.6\n",
        "! pip install torch==1.4.0"
      ]
    },
    {
      "cell_type": "code",
      "execution_count": null,
      "metadata": {
        "colab": {
          "base_uri": "https://localhost:8080/"
        },
        "id": "QaXbLm95rXWP",
        "outputId": "badf7ad5-80dc-4c9d-bd6c-2d8e6a886dfb"
      },
      "outputs": [
        {
          "name": "stderr",
          "output_type": "stream",
          "text": [
            "/usr/local/lib/python3.7/dist-packages/transformers/tokenization_utils_base.py:1423: FutureWarning: The `max_len` attribute has been deprecated and will be removed in a future version, use `model_max_length` instead.\n",
            "  FutureWarning,\n"
          ]
        },
        {
          "name": "stdout",
          "output_type": "stream",
          "text": [
            "hashname roberta-large_L17_no-idf_version=0.3.6(hug_trans=3.5.1)-rescaled\n",
            "P=0.480569 R=0.459697 F=0.470328\n"
          ]
        }
      ],
      "source": [
        "from bert_score import score\n",
        "import numpy as np\n",
        "\n",
        "def evaluate_bert_score(gt_summaries, generated_summaries):\n",
        "    (P, R, F), hashname = score(\n",
        "        # confirmed that order of args and lower case doesnt matter\n",
        "        # rescale with baseline does not work\n",
        "        [x for x in generated_summaries],   \n",
        "        [x for x in gt_summaries],\n",
        "        lang=\"en\", \n",
        "        return_hash=True,\n",
        "        # rescale_with_baseline=True\n",
        "    )\n",
        "    print(\"hashname\", hashname)\n",
        "    print(f\"P={P.mean().item():.6f} R={R.mean().item():.6f} F={F.mean().item():.6f}\")\n",
        "    return F.tolist()\n",
        "\n",
        "bart_bert_scores = evaluate_bert_score(gt_sums, gen_sums)\n",
        "corrected_bert_scores = evaluate_bert_score(gt_sums, corrected_sums)\n",
        "\n",
        "paper_bart = 91.61\n",
        "paper_corrected = 91.10\n",
        "our_bart = np.mean(bart_bert_scores) * 100\n",
        "our_corrected = np.mean(corrected_bert_scores) * 100\n",
        "\n",
        "print(\"BERT Scores\")\n",
        "print(f\"BART-large, paper: {paper_bart}, ours: {our_bart:.2f}, diff: {(paper_bart - our_bart):.2f}\")\n",
        "print(f\"Corrected, paper: {paper_corrected}, ours: {our_corrected:.2f}, diff: {(paper_corrected - our_corrected):.2f}\")\n"
      ]
    },
    {
      "cell_type": "code",
      "execution_count": null,
      "metadata": {
        "colab": {
          "base_uri": "https://localhost:8080/"
        },
        "id": "safMpb1oJ4gp",
        "outputId": "ac6a1d15-786e-450e-b2b2-d6fb2cb53158"
      },
      "outputs": [
        {
          "data": {
            "text/plain": [
              "(0.9106051067248085, 0.9091343403859644, 0.9120758730636527)"
            ]
          },
          "execution_count": 26,
          "metadata": {},
          "output_type": "execute_result"
        }
      ],
      "source": [
        "import scipy.stats\n",
        "\n",
        "def mean_confidence_interval(data, confidence=0.95):\n",
        "     a = 1.0 * np.array(data)\n",
        "     n = len(a)\n",
        "     m, se = np.mean(a), scipy.stats.sem(a)\n",
        "     h = se * scipy.stats.t.ppf((1 + confidence) / 2., n-1)\n",
        "     return m, m-h, m+h\n",
        "    \n",
        "mean_confidence_interval(bart_bert_scores)"
      ]
    },
    {
      "cell_type": "code",
      "execution_count": null,
      "metadata": {
        "colab": {
          "base_uri": "https://localhost:8080/"
        },
        "id": "-r-Tp0F4NxAv",
        "outputId": "2b6da5e5-e2e3-4f8b-9013-15b9e2e1e599"
      },
      "outputs": [
        {
          "data": {
            "text/plain": [
              "(0.9043894830523738, 0.9030304781051935, 0.905748487999554)"
            ]
          },
          "execution_count": 24,
          "metadata": {},
          "output_type": "execute_result"
        }
      ],
      "source": [
        "mean_confidence_interval(corrected_bert_scores)"
      ]
    },
    {
      "cell_type": "code",
      "execution_count": null,
      "metadata": {
        "id": "lSzMvAz4OU4K"
      },
      "outputs": [],
      "source": [
        "def draw_bs_replicates(data,func,size):\n",
        "    \"\"\"creates a bootstrap sample, computes replicates and returns replicates array\"\"\"\n",
        "    # Create an empty array to store replicates\n",
        "    bs_replicates = np.empty(size)\n",
        "    \n",
        "    # Create bootstrap replicates as much as size\n",
        "    for i in range(size):\n",
        "        # Create a bootstrap sample\n",
        "        bs_sample = np.random.choice(data,size=len(data))\n",
        "        # Get bootstrap replicate and append to bs_replicates\n",
        "        bs_replicates[i] = func(bs_sample)\n",
        "    \n",
        "    return bs_replicates\n",
        "\n",
        "bs_replicates = draw_bs_replicates(bart_bert_scores,np.mean,15000)"
      ]
    },
    {
      "cell_type": "code",
      "execution_count": null,
      "metadata": {
        "colab": {
          "base_uri": "https://localhost:8080/"
        },
        "id": "rX3fNaWzOpDb",
        "outputId": "cfa2d933-e3db-430f-814f-f3d56409598a"
      },
      "outputs": [
        {
          "data": {
            "text/plain": [
              "array([0.90911933, 0.91208589])"
            ]
          },
          "execution_count": 21,
          "metadata": {},
          "output_type": "execute_result"
        }
      ],
      "source": [
        "conf_interval = np.percentile(bs_replicates,[2.5,97.5])\n",
        "conf_interval"
      ]
    },
    {
      "cell_type": "code",
      "execution_count": null,
      "metadata": {
        "id": "7TWY_xuLVMKI"
      },
      "outputs": [],
      "source": [
        "# Reset deps after computing bert-score\n",
        "! pip install torch==1.11.0\n",
        "! pip install transformers==4.17.0"
      ]
    },
    {
      "cell_type": "markdown",
      "source": [
        "# Utils"
      ],
      "metadata": {
        "id": "2MqNYwFZWhDo"
      }
    },
    {
      "cell_type": "code",
      "source": [
        "from rouge_score import rouge_scorer\n",
        "import scipy.stats\n",
        "from bert_score import score\n",
        "import numpy as np\n",
        "\n",
        "def compute_rouge_scores(gt_sums, gen_sums, metric=\"rougeL\"):\n",
        "  rouge_l_scorer = rouge_scorer.RougeScorer(\n",
        "      ['rougeL'],\n",
        "      use_stemmer=True\n",
        "  )\n",
        "\n",
        "  rouge_scores = []\n",
        "  for gt_sum, gen_sum in zip(gt_sums, gen_sums):\n",
        "      rouge_scores.append(\n",
        "          rouge_l_scorer.score(gt_sum, gen_sum)['rougeL'].fmeasure\n",
        "      )\n",
        "  return rouge_scores\n",
        "\n",
        "def compute_bert_scores(gt_summaries, generated_summaries):\n",
        "    (P, R, F), hashname = score(\n",
        "        # confirmed that order of args and lower case doesnt matter\n",
        "        # rescale with baseline does not work\n",
        "        [x for x in generated_summaries],   \n",
        "        [x for x in gt_summaries],\n",
        "        lang=\"en\", \n",
        "        return_hash=True,\n",
        "        # rescale_with_baseline=True\n",
        "    )\n",
        "    print(\"BERT-score hashname\", hashname)\n",
        "    return F.tolist()\n",
        "\n",
        "def mean_confidence_interval(data, confidence=0.95):\n",
        "     a = 1.0 * np.array(data)\n",
        "     n = len(a)\n",
        "     m, se = np.mean(a), scipy.stats.sem(a)\n",
        "     h = se * scipy.stats.t.ppf((1 + confidence) / 2., n-1)\n",
        "     return m-h, m, m+h"
      ],
      "metadata": {
        "id": "cWoVD8_mWirR"
      },
      "execution_count": 6,
      "outputs": []
    },
    {
      "cell_type": "markdown",
      "source": [
        "# Final"
      ],
      "metadata": {
        "id": "SQo0rH1YUOAV"
      }
    },
    {
      "cell_type": "code",
      "source": [
        "%%capture\n",
        "from eval_bert_score import load_data\n",
        "\n",
        "gt_sums, bart_large_sums, sum_ids = load_data(\n",
        "    \"xsum\", \n",
        "    \"test\", \n",
        "    \"facebook-bart-large-xsum\"\n",
        ")"
      ],
      "metadata": {
        "id": "cHus4dhSWP_b"
      },
      "execution_count": 7,
      "outputs": []
    },
    {
      "cell_type": "markdown",
      "source": [
        "### BART-large"
      ],
      "metadata": {
        "id": "CiN9mjztWrES"
      }
    },
    {
      "cell_type": "code",
      "source": [
        "import numpy as np\n",
        "rouge_scores = compute_rouge_scores(\n",
        "    gt_sums,\n",
        "    bart_large_sums,\n",
        "    metric=\"rougeL\"\n",
        ")\n",
        "bert_scores = compute_bert_scores(\n",
        "    gt_sums,\n",
        "    bart_large_sums\n",
        ")\n",
        "\n",
        "print(\"ROUGE-L\", mean_confidence_interval(rouge_scores))\n",
        "print(\"BERT\", mean_confidence_interval(bert_scores))"
      ],
      "metadata": {
        "colab": {
          "base_uri": "https://localhost:8080/",
          "height": 272,
          "referenced_widgets": [
            "9563768650834ab296bc9b6687101dff",
            "1d35b175585c42979ca44c4c8f7e993b",
            "3b16f2db0e524a39afe3f7088c3d766f",
            "f847dfe2956e497a8dbac5fb199fb3dd",
            "602f02e1b7df4cfb9efdbd6bd09e866b",
            "bec9b8eb0d124c3aaa0666d7566054c0",
            "ebbe00ec95634787ae823fd70096c586",
            "6d9ffdb25c9e4ec591d2d32d01534098",
            "2ee3d3dfdbd34c4793d3e7a282fad0e5",
            "d9b1669b50954e5c98ea8092e04e440c",
            "b87d95e4fe514e60a78d29c3c484114c",
            "3febec4137584b0abdc12b7740800491",
            "fa7c204091cf46f9a34d5b90965bdd80",
            "0c3a57a56de946ea93d7ba7f55bf5c10",
            "5fad194bb53845ad89230723be92d863",
            "0b25947590a7438685e96a1759093fac",
            "c72e8d0ade1e4c71857063eb1d78fe54",
            "e861a548f3df4030b6d705553ca29d0f",
            "8e4921ce5c6d41748ed878e9750eb89d",
            "6372d183fd0a459bbe86c6c9fca2fb91",
            "f480b739331c40ccb83ac1cf7c6f66e7",
            "5b3aca7cd5be489ba685965cefa81955",
            "faf665651d3d4c2a9a485fb742c834cb",
            "200671ef637848ef8f980ecc4ecd2b4f",
            "99a22ab7c7134ee2958c0deef18fe56b",
            "bf6c89101d254782942b1921f14e979d",
            "04cd122408074b7aa3065509280375c3",
            "8408cbd8ad494a3e9253ea620d14ab56",
            "156cedc2cc444bc48dd2217cd2813ef2",
            "69d4c8e9b2254f77901df8aa36e456cf",
            "26e7f75b6ff84162967edb0d244e8046",
            "bc3a751883684b058aebe6ee418e8e23",
            "6c0be1050a9d4863890ef909ae1fd8ac",
            "64b178ea84294958b11bbf77ed34c88f",
            "3624374ee55b421f8a96cf6141deebe2",
            "4defc536030e42e6baa0c7ce50fae31b",
            "db1361d8e595446c99f563fa352debd9",
            "52b299a2bea94b588c1c2e68c51c44ab",
            "86e780d1c4d74cedb2aa760491ae4a15",
            "e9abb42b4218410ea05ae84ca7bc4f2e",
            "40fbdfdd4f934a3daa1724a0150ac17c",
            "23135ff333a24d8fb90cdf7ada77d25c",
            "706587781e43408884fa5ce2931d8767",
            "0647c08c296a4f8e9a161d1375dc03cc"
          ]
        },
        "id": "oNFJNxICU3ny",
        "outputId": "1199bde3-5921-4d1c-88e3-e80d5b4ba55c"
      },
      "execution_count": 8,
      "outputs": [
        {
          "output_type": "display_data",
          "data": {
            "text/plain": [
              "Downloading:   0%|          | 0.00/482 [00:00<?, ?B/s]"
            ],
            "application/vnd.jupyter.widget-view+json": {
              "version_major": 2,
              "version_minor": 0,
              "model_id": "9563768650834ab296bc9b6687101dff"
            }
          },
          "metadata": {}
        },
        {
          "output_type": "display_data",
          "data": {
            "text/plain": [
              "Downloading:   0%|          | 0.00/878k [00:00<?, ?B/s]"
            ],
            "application/vnd.jupyter.widget-view+json": {
              "version_major": 2,
              "version_minor": 0,
              "model_id": "3febec4137584b0abdc12b7740800491"
            }
          },
          "metadata": {}
        },
        {
          "output_type": "display_data",
          "data": {
            "text/plain": [
              "Downloading:   0%|          | 0.00/446k [00:00<?, ?B/s]"
            ],
            "application/vnd.jupyter.widget-view+json": {
              "version_major": 2,
              "version_minor": 0,
              "model_id": "faf665651d3d4c2a9a485fb742c834cb"
            }
          },
          "metadata": {}
        },
        {
          "output_type": "display_data",
          "data": {
            "text/plain": [
              "Downloading:   0%|          | 0.00/1.33G [00:00<?, ?B/s]"
            ],
            "application/vnd.jupyter.widget-view+json": {
              "version_major": 2,
              "version_minor": 0,
              "model_id": "64b178ea84294958b11bbf77ed34c88f"
            }
          },
          "metadata": {}
        },
        {
          "output_type": "stream",
          "name": "stderr",
          "text": [
            "Some weights of the model checkpoint at roberta-large were not used when initializing RobertaModel: ['lm_head.layer_norm.bias', 'lm_head.dense.bias', 'lm_head.decoder.weight', 'lm_head.dense.weight', 'lm_head.bias', 'lm_head.layer_norm.weight']\n",
            "- This IS expected if you are initializing RobertaModel from the checkpoint of a model trained on another task or with another architecture (e.g. initializing a BertForSequenceClassification model from a BertForPreTraining model).\n",
            "- This IS NOT expected if you are initializing RobertaModel from the checkpoint of a model that you expect to be exactly identical (initializing a BertForSequenceClassification model from a BertForSequenceClassification model).\n"
          ]
        },
        {
          "output_type": "stream",
          "name": "stdout",
          "text": [
            "BERT-score hashname roberta-large_L17_no-idf_version=0.3.7(hug_trans=4.17.0)\n",
            "ROUGE-L (0.36909134897464074, 0.3722522387559257, 0.3754131285372107)\n",
            "BERT (0.9211224615764596, 0.9216275771911211, 0.9221326928057826)\n"
          ]
        }
      ]
    },
    {
      "cell_type": "markdown",
      "source": [
        "## +Corrected"
      ],
      "metadata": {
        "id": "Kg80MXrsUQXU"
      }
    },
    {
      "cell_type": "code",
      "source": [
        "import json\n",
        "# Load corrected summaries\n",
        "corr_sums = []\n",
        "with open(\"/content/gdrive/MyDrive/CS6741/replication/data/corrected/train_v1_final_280k.jsonl\", \"r\") as f:\n",
        "  for line in f:\n",
        "    obj = json.loads(line)\n",
        "    corr_sums.append((\n",
        "        obj[\"corrected\"],\n",
        "        obj[\"source\"]\n",
        "    ))\n",
        "len(corr_sums)"
      ],
      "metadata": {
        "colab": {
          "base_uri": "https://localhost:8080/"
        },
        "id": "EtNlWulrUgYU",
        "outputId": "5f70ee92-c06c-4b0c-e408-68a21bc30eb3"
      },
      "execution_count": 9,
      "outputs": [
        {
          "output_type": "execute_result",
          "data": {
            "text/plain": [
              "1946"
            ]
          },
          "metadata": {},
          "execution_count": 9
        }
      ]
    },
    {
      "cell_type": "code",
      "source": [
        "from datasets import load_dataset\n",
        "xsum_test = load_dataset(\"xsum\")[\"test\"]\n",
        "xsum_test_source_to_id = {x[\"document\"]: x[\"id\"] for x in xsum_test}\n",
        "xsum_doc_by_id = {x[\"id\"]: x for x in xsum_test}"
      ],
      "metadata": {
        "colab": {
          "base_uri": "https://localhost:8080/",
          "height": 84,
          "referenced_widgets": [
            "e2a65fa7f72f41979bc61df680b23690",
            "e3517ced88cf40209ddb8c4f74282b3a",
            "00e50e2b736d4af9bee5b0bedf731036",
            "f55160546b85457b94df3a4c74ed385f",
            "fb7a1b29a7874b8ba43d6946e3a0531a",
            "7103fd8fad4c453cb0831a366b11487c",
            "4364538584394ec793ddb22781c1640a",
            "2a69ef126f3641f98e6ec0d7ace62871",
            "36fc705fb5924c838b0b5e67486c0dd8",
            "fd3c6ca3cda949eab731bed812334a26",
            "288fb417eca24a06b7e6548ab3a0406a"
          ]
        },
        "id": "dbVsIuqegmtm",
        "outputId": "c611cf66-76c2-4d53-d27c-e4ccd9110648"
      },
      "execution_count": 10,
      "outputs": [
        {
          "output_type": "stream",
          "name": "stderr",
          "text": [
            "Using custom data configuration default\n",
            "Reusing dataset xsum (/root/.cache/huggingface/datasets/xsum/default/1.2.0/32c23220eadddb1149b16ed2e9430a05293768cfffbdfd151058697d4c11f934)\n"
          ]
        },
        {
          "output_type": "display_data",
          "data": {
            "text/plain": [
              "  0%|          | 0/3 [00:00<?, ?it/s]"
            ],
            "application/vnd.jupyter.widget-view+json": {
              "version_major": 2,
              "version_minor": 0,
              "model_id": "e2a65fa7f72f41979bc61df680b23690"
            }
          },
          "metadata": {}
        }
      ]
    },
    {
      "cell_type": "markdown",
      "source": [
        "### Rouge & BERT-score for corrected summaries (corrector)"
      ],
      "metadata": {
        "id": "TCku5U43ieyk"
      }
    },
    {
      "cell_type": "code",
      "source": [
        "n = 0\n",
        "corr_sums_with_gt = []\n",
        "corr_sums_gt = []\n",
        "corr_sum_by_id = {}\n",
        "\n",
        "corr_sums_with_gt_full = []\n",
        "for sum, source in corr_sums:\n",
        "  if source in xsum_test_source_to_id:\n",
        "    id = xsum_test_source_to_id[source]\n",
        "    corr_sums_gt.append(xsum_doc_by_id[id][\"summary\"])\n",
        "    corr_sums_with_gt.append(sum)\n",
        "    n += 1\n",
        "    corr_sum_by_id[id] = sum\n",
        "print(n)"
      ],
      "metadata": {
        "colab": {
          "base_uri": "https://localhost:8080/"
        },
        "id": "PpFb7t2ngy_B",
        "outputId": "3ae378a9-0704-43c7-f7a5-fb592b459a4b"
      },
      "execution_count": 19,
      "outputs": [
        {
          "output_type": "stream",
          "name": "stdout",
          "text": [
            "1766\n"
          ]
        }
      ]
    },
    {
      "cell_type": "code",
      "source": [
        "import numpy as np\n",
        "rouge_scores = compute_rouge_scores(\n",
        "    corr_sums_gt,\n",
        "    corr_sums_with_gt,\n",
        "    metric=\"rougeL\"\n",
        ")\n",
        "bert_scores = compute_bert_scores(\n",
        "    corr_sums_gt,\n",
        "    corr_sums_with_gt\n",
        ")\n",
        "\n",
        "print(\"ROUGE-L\", mean_confidence_interval(rouge_scores))\n",
        "print(\"BERT\", mean_confidence_interval(bert_scores))"
      ],
      "metadata": {
        "colab": {
          "base_uri": "https://localhost:8080/"
        },
        "id": "nifVA2t2US4g",
        "outputId": "ec715470-38d2-4b96-d12e-3b961a3ebfe1"
      },
      "execution_count": 12,
      "outputs": [
        {
          "output_type": "stream",
          "name": "stderr",
          "text": [
            "Some weights of the model checkpoint at roberta-large were not used when initializing RobertaModel: ['lm_head.layer_norm.bias', 'lm_head.dense.bias', 'lm_head.decoder.weight', 'lm_head.dense.weight', 'lm_head.bias', 'lm_head.layer_norm.weight']\n",
            "- This IS expected if you are initializing RobertaModel from the checkpoint of a model trained on another task or with another architecture (e.g. initializing a BertForSequenceClassification model from a BertForPreTraining model).\n",
            "- This IS NOT expected if you are initializing RobertaModel from the checkpoint of a model that you expect to be exactly identical (initializing a BertForSequenceClassification model from a BertForSequenceClassification model).\n"
          ]
        },
        {
          "output_type": "stream",
          "name": "stdout",
          "text": [
            "BERT-score hashname roberta-large_L17_no-idf_version=0.3.7(hug_trans=4.17.0)\n",
            "ROUGE-L (0.36596905052894757, 0.3736233714162912, 0.38127769230363484)\n",
            "BERT (0.9166923611232533, 0.9178685978949408, 0.9190448346666283)\n"
          ]
        }
      ]
    },
    {
      "cell_type": "markdown",
      "source": [
        "### Rouge & BERT-score for corrected summaries (baseline)"
      ],
      "metadata": {
        "id": "z_9fzvyTiaND"
      }
    },
    {
      "cell_type": "code",
      "source": [
        "bart_large_sums_by_id = {\n",
        "    id: (sum, gt_sum) for id, sum, gt_sum in zip(sum_ids, bart_large_sums, gt_sums)\n",
        "}\n",
        "bart_large_subset_sums = []\n",
        "bart_large_subset_gt = []\n",
        "for id in corr_sum_ids:\n",
        "  sum, gt_sum = bart_large_sums_by_id[id]\n",
        "  bart_large_subset_sums.append(sum)\n",
        "  bart_large_subset_gt.append(gt_sum)"
      ],
      "metadata": {
        "id": "l8GOW7Zhic5O"
      },
      "execution_count": 13,
      "outputs": []
    },
    {
      "cell_type": "code",
      "source": [
        "import numpy as np\n",
        "rouge_scores = compute_rouge_scores(\n",
        "    bart_large_subset_gt,\n",
        "    bart_large_subset_sums,\n",
        "    metric=\"rougeL\"\n",
        ")\n",
        "bert_scores = compute_bert_scores(\n",
        "    bart_large_subset_gt,\n",
        "    bart_large_subset_sums\n",
        ")\n",
        "\n",
        "print(\"ROUGE-L\", mean_confidence_interval(rouge_scores))\n",
        "print(\"BERT\", mean_confidence_interval(bert_scores))"
      ],
      "metadata": {
        "colab": {
          "base_uri": "https://localhost:8080/"
        },
        "id": "1X2xU6DeUVoh",
        "outputId": "2008f2da-dc9a-405d-f640-31fc4b69c572"
      },
      "execution_count": 14,
      "outputs": [
        {
          "output_type": "stream",
          "name": "stderr",
          "text": [
            "Some weights of the model checkpoint at roberta-large were not used when initializing RobertaModel: ['lm_head.layer_norm.bias', 'lm_head.dense.bias', 'lm_head.decoder.weight', 'lm_head.dense.weight', 'lm_head.bias', 'lm_head.layer_norm.weight']\n",
            "- This IS expected if you are initializing RobertaModel from the checkpoint of a model trained on another task or with another architecture (e.g. initializing a BertForSequenceClassification model from a BertForPreTraining model).\n",
            "- This IS NOT expected if you are initializing RobertaModel from the checkpoint of a model that you expect to be exactly identical (initializing a BertForSequenceClassification model from a BertForSequenceClassification model).\n"
          ]
        },
        {
          "output_type": "stream",
          "name": "stdout",
          "text": [
            "BERT-score hashname roberta-large_L17_no-idf_version=0.3.7(hug_trans=4.17.0)\n",
            "ROUGE-L (0.3881612320079963, 0.3960413988179433, 0.40392156562789033)\n",
            "BERT (0.923100832877441, 0.9243256134125546, 0.9255503939476681)\n"
          ]
        }
      ]
    },
    {
      "cell_type": "markdown",
      "source": [
        "### Rouge & BERT-score for test set (corrector)"
      ],
      "metadata": {
        "id": "td2Mi2Joigla"
      }
    },
    {
      "cell_type": "code",
      "source": [
        "# Corrector sum if corrected, otherwise bart sum\n",
        "bart_large_sums_by_id = {\n",
        "    id: (sum, gt_sum) for id, sum, gt_sum in zip(sum_ids, bart_large_sums, gt_sums)\n",
        "}\n",
        "corrector_test_set_sums = []\n",
        "corrector_test_set_sums_gt = []\n",
        "\n",
        "for id, (bart_sum, gt_sum) in bart_large_sums_by_id.items():\n",
        "  corrector_test_set_sums_gt.append(gt_sum)\n",
        "  if id in corr_sum_by_id:\n",
        "    corrector_test_set_sums.append(corr_sum_by_id[id])\n",
        "  else:\n",
        "    corrector_test_set_sums.append(bart_sum)\n",
        "\n",
        "print(len(corrector_test_set_sums), len(corrector_test_set_sums_gt))"
      ],
      "metadata": {
        "id": "OzDN8jKDjMp9",
        "colab": {
          "base_uri": "https://localhost:8080/"
        },
        "outputId": "33772b36-2f4d-400e-c91e-e4de314a33df"
      },
      "execution_count": 21,
      "outputs": [
        {
          "output_type": "stream",
          "name": "stdout",
          "text": [
            "11334 11334\n"
          ]
        }
      ]
    },
    {
      "cell_type": "code",
      "source": [
        "rouge_scores = compute_rouge_scores(\n",
        "    corrector_test_set_sums_gt,\n",
        "    corrector_test_set_sums,\n",
        "    metric=\"rougeL\"\n",
        ")\n",
        "bert_scores = compute_bert_scores(\n",
        "    corrector_test_set_sums_gt,\n",
        "    corrector_test_set_sums\n",
        ")\n",
        "\n",
        "print(\"ROUGE-L\", mean_confidence_interval(rouge_scores))\n",
        "print(\"BERT\", mean_confidence_interval(bert_scores))"
      ],
      "metadata": {
        "colab": {
          "base_uri": "https://localhost:8080/"
        },
        "id": "F25v-cxIjRSt",
        "outputId": "62f48981-8ce4-42d8-d6e7-a992862c6d01"
      },
      "execution_count": 22,
      "outputs": [
        {
          "output_type": "stream",
          "name": "stderr",
          "text": [
            "Some weights of the model checkpoint at roberta-large were not used when initializing RobertaModel: ['lm_head.layer_norm.bias', 'lm_head.dense.bias', 'lm_head.decoder.weight', 'lm_head.dense.weight', 'lm_head.bias', 'lm_head.layer_norm.weight']\n",
            "- This IS expected if you are initializing RobertaModel from the checkpoint of a model trained on another task or with another architecture (e.g. initializing a BertForSequenceClassification model from a BertForPreTraining model).\n",
            "- This IS NOT expected if you are initializing RobertaModel from the checkpoint of a model that you expect to be exactly identical (initializing a BertForSequenceClassification model from a BertForSequenceClassification model).\n"
          ]
        },
        {
          "output_type": "stream",
          "name": "stdout",
          "text": [
            "BERT-score hashname roberta-large_L17_no-idf_version=0.3.7(hug_trans=4.17.0)\n",
            "ROUGE-L (0.36561717391819104, 0.36875918807732, 0.37190120223644896)\n",
            "BERT (0.9201191512844124, 0.9206214812575183, 0.9211238112306243)\n"
          ]
        }
      ]
    }
  ],
  "metadata": {
    "accelerator": "GPU",
    "colab": {
      "collapsed_sections": [],
      "name": "compute-rouge-bert-score.ipynb",
      "provenance": []
    },
    "kernelspec": {
      "display_name": "Python 3",
      "name": "python3"
    },
    "language_info": {
      "name": "python"
    },
    "widgets": {
      "application/vnd.jupyter.widget-state+json": {
        "9563768650834ab296bc9b6687101dff": {
          "model_module": "@jupyter-widgets/controls",
          "model_name": "HBoxModel",
          "model_module_version": "1.5.0",
          "state": {
            "_dom_classes": [],
            "_model_module": "@jupyter-widgets/controls",
            "_model_module_version": "1.5.0",
            "_model_name": "HBoxModel",
            "_view_count": null,
            "_view_module": "@jupyter-widgets/controls",
            "_view_module_version": "1.5.0",
            "_view_name": "HBoxView",
            "box_style": "",
            "children": [
              "IPY_MODEL_1d35b175585c42979ca44c4c8f7e993b",
              "IPY_MODEL_3b16f2db0e524a39afe3f7088c3d766f",
              "IPY_MODEL_f847dfe2956e497a8dbac5fb199fb3dd"
            ],
            "layout": "IPY_MODEL_602f02e1b7df4cfb9efdbd6bd09e866b"
          }
        },
        "1d35b175585c42979ca44c4c8f7e993b": {
          "model_module": "@jupyter-widgets/controls",
          "model_name": "HTMLModel",
          "model_module_version": "1.5.0",
          "state": {
            "_dom_classes": [],
            "_model_module": "@jupyter-widgets/controls",
            "_model_module_version": "1.5.0",
            "_model_name": "HTMLModel",
            "_view_count": null,
            "_view_module": "@jupyter-widgets/controls",
            "_view_module_version": "1.5.0",
            "_view_name": "HTMLView",
            "description": "",
            "description_tooltip": null,
            "layout": "IPY_MODEL_bec9b8eb0d124c3aaa0666d7566054c0",
            "placeholder": "​",
            "style": "IPY_MODEL_ebbe00ec95634787ae823fd70096c586",
            "value": "Downloading: 100%"
          }
        },
        "3b16f2db0e524a39afe3f7088c3d766f": {
          "model_module": "@jupyter-widgets/controls",
          "model_name": "FloatProgressModel",
          "model_module_version": "1.5.0",
          "state": {
            "_dom_classes": [],
            "_model_module": "@jupyter-widgets/controls",
            "_model_module_version": "1.5.0",
            "_model_name": "FloatProgressModel",
            "_view_count": null,
            "_view_module": "@jupyter-widgets/controls",
            "_view_module_version": "1.5.0",
            "_view_name": "ProgressView",
            "bar_style": "success",
            "description": "",
            "description_tooltip": null,
            "layout": "IPY_MODEL_6d9ffdb25c9e4ec591d2d32d01534098",
            "max": 482,
            "min": 0,
            "orientation": "horizontal",
            "style": "IPY_MODEL_2ee3d3dfdbd34c4793d3e7a282fad0e5",
            "value": 482
          }
        },
        "f847dfe2956e497a8dbac5fb199fb3dd": {
          "model_module": "@jupyter-widgets/controls",
          "model_name": "HTMLModel",
          "model_module_version": "1.5.0",
          "state": {
            "_dom_classes": [],
            "_model_module": "@jupyter-widgets/controls",
            "_model_module_version": "1.5.0",
            "_model_name": "HTMLModel",
            "_view_count": null,
            "_view_module": "@jupyter-widgets/controls",
            "_view_module_version": "1.5.0",
            "_view_name": "HTMLView",
            "description": "",
            "description_tooltip": null,
            "layout": "IPY_MODEL_d9b1669b50954e5c98ea8092e04e440c",
            "placeholder": "​",
            "style": "IPY_MODEL_b87d95e4fe514e60a78d29c3c484114c",
            "value": " 482/482 [00:00&lt;00:00, 11.3kB/s]"
          }
        },
        "602f02e1b7df4cfb9efdbd6bd09e866b": {
          "model_module": "@jupyter-widgets/base",
          "model_name": "LayoutModel",
          "model_module_version": "1.2.0",
          "state": {
            "_model_module": "@jupyter-widgets/base",
            "_model_module_version": "1.2.0",
            "_model_name": "LayoutModel",
            "_view_count": null,
            "_view_module": "@jupyter-widgets/base",
            "_view_module_version": "1.2.0",
            "_view_name": "LayoutView",
            "align_content": null,
            "align_items": null,
            "align_self": null,
            "border": null,
            "bottom": null,
            "display": null,
            "flex": null,
            "flex_flow": null,
            "grid_area": null,
            "grid_auto_columns": null,
            "grid_auto_flow": null,
            "grid_auto_rows": null,
            "grid_column": null,
            "grid_gap": null,
            "grid_row": null,
            "grid_template_areas": null,
            "grid_template_columns": null,
            "grid_template_rows": null,
            "height": null,
            "justify_content": null,
            "justify_items": null,
            "left": null,
            "margin": null,
            "max_height": null,
            "max_width": null,
            "min_height": null,
            "min_width": null,
            "object_fit": null,
            "object_position": null,
            "order": null,
            "overflow": null,
            "overflow_x": null,
            "overflow_y": null,
            "padding": null,
            "right": null,
            "top": null,
            "visibility": null,
            "width": null
          }
        },
        "bec9b8eb0d124c3aaa0666d7566054c0": {
          "model_module": "@jupyter-widgets/base",
          "model_name": "LayoutModel",
          "model_module_version": "1.2.0",
          "state": {
            "_model_module": "@jupyter-widgets/base",
            "_model_module_version": "1.2.0",
            "_model_name": "LayoutModel",
            "_view_count": null,
            "_view_module": "@jupyter-widgets/base",
            "_view_module_version": "1.2.0",
            "_view_name": "LayoutView",
            "align_content": null,
            "align_items": null,
            "align_self": null,
            "border": null,
            "bottom": null,
            "display": null,
            "flex": null,
            "flex_flow": null,
            "grid_area": null,
            "grid_auto_columns": null,
            "grid_auto_flow": null,
            "grid_auto_rows": null,
            "grid_column": null,
            "grid_gap": null,
            "grid_row": null,
            "grid_template_areas": null,
            "grid_template_columns": null,
            "grid_template_rows": null,
            "height": null,
            "justify_content": null,
            "justify_items": null,
            "left": null,
            "margin": null,
            "max_height": null,
            "max_width": null,
            "min_height": null,
            "min_width": null,
            "object_fit": null,
            "object_position": null,
            "order": null,
            "overflow": null,
            "overflow_x": null,
            "overflow_y": null,
            "padding": null,
            "right": null,
            "top": null,
            "visibility": null,
            "width": null
          }
        },
        "ebbe00ec95634787ae823fd70096c586": {
          "model_module": "@jupyter-widgets/controls",
          "model_name": "DescriptionStyleModel",
          "model_module_version": "1.5.0",
          "state": {
            "_model_module": "@jupyter-widgets/controls",
            "_model_module_version": "1.5.0",
            "_model_name": "DescriptionStyleModel",
            "_view_count": null,
            "_view_module": "@jupyter-widgets/base",
            "_view_module_version": "1.2.0",
            "_view_name": "StyleView",
            "description_width": ""
          }
        },
        "6d9ffdb25c9e4ec591d2d32d01534098": {
          "model_module": "@jupyter-widgets/base",
          "model_name": "LayoutModel",
          "model_module_version": "1.2.0",
          "state": {
            "_model_module": "@jupyter-widgets/base",
            "_model_module_version": "1.2.0",
            "_model_name": "LayoutModel",
            "_view_count": null,
            "_view_module": "@jupyter-widgets/base",
            "_view_module_version": "1.2.0",
            "_view_name": "LayoutView",
            "align_content": null,
            "align_items": null,
            "align_self": null,
            "border": null,
            "bottom": null,
            "display": null,
            "flex": null,
            "flex_flow": null,
            "grid_area": null,
            "grid_auto_columns": null,
            "grid_auto_flow": null,
            "grid_auto_rows": null,
            "grid_column": null,
            "grid_gap": null,
            "grid_row": null,
            "grid_template_areas": null,
            "grid_template_columns": null,
            "grid_template_rows": null,
            "height": null,
            "justify_content": null,
            "justify_items": null,
            "left": null,
            "margin": null,
            "max_height": null,
            "max_width": null,
            "min_height": null,
            "min_width": null,
            "object_fit": null,
            "object_position": null,
            "order": null,
            "overflow": null,
            "overflow_x": null,
            "overflow_y": null,
            "padding": null,
            "right": null,
            "top": null,
            "visibility": null,
            "width": null
          }
        },
        "2ee3d3dfdbd34c4793d3e7a282fad0e5": {
          "model_module": "@jupyter-widgets/controls",
          "model_name": "ProgressStyleModel",
          "model_module_version": "1.5.0",
          "state": {
            "_model_module": "@jupyter-widgets/controls",
            "_model_module_version": "1.5.0",
            "_model_name": "ProgressStyleModel",
            "_view_count": null,
            "_view_module": "@jupyter-widgets/base",
            "_view_module_version": "1.2.0",
            "_view_name": "StyleView",
            "bar_color": null,
            "description_width": ""
          }
        },
        "d9b1669b50954e5c98ea8092e04e440c": {
          "model_module": "@jupyter-widgets/base",
          "model_name": "LayoutModel",
          "model_module_version": "1.2.0",
          "state": {
            "_model_module": "@jupyter-widgets/base",
            "_model_module_version": "1.2.0",
            "_model_name": "LayoutModel",
            "_view_count": null,
            "_view_module": "@jupyter-widgets/base",
            "_view_module_version": "1.2.0",
            "_view_name": "LayoutView",
            "align_content": null,
            "align_items": null,
            "align_self": null,
            "border": null,
            "bottom": null,
            "display": null,
            "flex": null,
            "flex_flow": null,
            "grid_area": null,
            "grid_auto_columns": null,
            "grid_auto_flow": null,
            "grid_auto_rows": null,
            "grid_column": null,
            "grid_gap": null,
            "grid_row": null,
            "grid_template_areas": null,
            "grid_template_columns": null,
            "grid_template_rows": null,
            "height": null,
            "justify_content": null,
            "justify_items": null,
            "left": null,
            "margin": null,
            "max_height": null,
            "max_width": null,
            "min_height": null,
            "min_width": null,
            "object_fit": null,
            "object_position": null,
            "order": null,
            "overflow": null,
            "overflow_x": null,
            "overflow_y": null,
            "padding": null,
            "right": null,
            "top": null,
            "visibility": null,
            "width": null
          }
        },
        "b87d95e4fe514e60a78d29c3c484114c": {
          "model_module": "@jupyter-widgets/controls",
          "model_name": "DescriptionStyleModel",
          "model_module_version": "1.5.0",
          "state": {
            "_model_module": "@jupyter-widgets/controls",
            "_model_module_version": "1.5.0",
            "_model_name": "DescriptionStyleModel",
            "_view_count": null,
            "_view_module": "@jupyter-widgets/base",
            "_view_module_version": "1.2.0",
            "_view_name": "StyleView",
            "description_width": ""
          }
        },
        "3febec4137584b0abdc12b7740800491": {
          "model_module": "@jupyter-widgets/controls",
          "model_name": "HBoxModel",
          "model_module_version": "1.5.0",
          "state": {
            "_dom_classes": [],
            "_model_module": "@jupyter-widgets/controls",
            "_model_module_version": "1.5.0",
            "_model_name": "HBoxModel",
            "_view_count": null,
            "_view_module": "@jupyter-widgets/controls",
            "_view_module_version": "1.5.0",
            "_view_name": "HBoxView",
            "box_style": "",
            "children": [
              "IPY_MODEL_fa7c204091cf46f9a34d5b90965bdd80",
              "IPY_MODEL_0c3a57a56de946ea93d7ba7f55bf5c10",
              "IPY_MODEL_5fad194bb53845ad89230723be92d863"
            ],
            "layout": "IPY_MODEL_0b25947590a7438685e96a1759093fac"
          }
        },
        "fa7c204091cf46f9a34d5b90965bdd80": {
          "model_module": "@jupyter-widgets/controls",
          "model_name": "HTMLModel",
          "model_module_version": "1.5.0",
          "state": {
            "_dom_classes": [],
            "_model_module": "@jupyter-widgets/controls",
            "_model_module_version": "1.5.0",
            "_model_name": "HTMLModel",
            "_view_count": null,
            "_view_module": "@jupyter-widgets/controls",
            "_view_module_version": "1.5.0",
            "_view_name": "HTMLView",
            "description": "",
            "description_tooltip": null,
            "layout": "IPY_MODEL_c72e8d0ade1e4c71857063eb1d78fe54",
            "placeholder": "​",
            "style": "IPY_MODEL_e861a548f3df4030b6d705553ca29d0f",
            "value": "Downloading: 100%"
          }
        },
        "0c3a57a56de946ea93d7ba7f55bf5c10": {
          "model_module": "@jupyter-widgets/controls",
          "model_name": "FloatProgressModel",
          "model_module_version": "1.5.0",
          "state": {
            "_dom_classes": [],
            "_model_module": "@jupyter-widgets/controls",
            "_model_module_version": "1.5.0",
            "_model_name": "FloatProgressModel",
            "_view_count": null,
            "_view_module": "@jupyter-widgets/controls",
            "_view_module_version": "1.5.0",
            "_view_name": "ProgressView",
            "bar_style": "success",
            "description": "",
            "description_tooltip": null,
            "layout": "IPY_MODEL_8e4921ce5c6d41748ed878e9750eb89d",
            "max": 898823,
            "min": 0,
            "orientation": "horizontal",
            "style": "IPY_MODEL_6372d183fd0a459bbe86c6c9fca2fb91",
            "value": 898823
          }
        },
        "5fad194bb53845ad89230723be92d863": {
          "model_module": "@jupyter-widgets/controls",
          "model_name": "HTMLModel",
          "model_module_version": "1.5.0",
          "state": {
            "_dom_classes": [],
            "_model_module": "@jupyter-widgets/controls",
            "_model_module_version": "1.5.0",
            "_model_name": "HTMLModel",
            "_view_count": null,
            "_view_module": "@jupyter-widgets/controls",
            "_view_module_version": "1.5.0",
            "_view_name": "HTMLView",
            "description": "",
            "description_tooltip": null,
            "layout": "IPY_MODEL_f480b739331c40ccb83ac1cf7c6f66e7",
            "placeholder": "​",
            "style": "IPY_MODEL_5b3aca7cd5be489ba685965cefa81955",
            "value": " 878k/878k [00:00&lt;00:00, 832kB/s]"
          }
        },
        "0b25947590a7438685e96a1759093fac": {
          "model_module": "@jupyter-widgets/base",
          "model_name": "LayoutModel",
          "model_module_version": "1.2.0",
          "state": {
            "_model_module": "@jupyter-widgets/base",
            "_model_module_version": "1.2.0",
            "_model_name": "LayoutModel",
            "_view_count": null,
            "_view_module": "@jupyter-widgets/base",
            "_view_module_version": "1.2.0",
            "_view_name": "LayoutView",
            "align_content": null,
            "align_items": null,
            "align_self": null,
            "border": null,
            "bottom": null,
            "display": null,
            "flex": null,
            "flex_flow": null,
            "grid_area": null,
            "grid_auto_columns": null,
            "grid_auto_flow": null,
            "grid_auto_rows": null,
            "grid_column": null,
            "grid_gap": null,
            "grid_row": null,
            "grid_template_areas": null,
            "grid_template_columns": null,
            "grid_template_rows": null,
            "height": null,
            "justify_content": null,
            "justify_items": null,
            "left": null,
            "margin": null,
            "max_height": null,
            "max_width": null,
            "min_height": null,
            "min_width": null,
            "object_fit": null,
            "object_position": null,
            "order": null,
            "overflow": null,
            "overflow_x": null,
            "overflow_y": null,
            "padding": null,
            "right": null,
            "top": null,
            "visibility": null,
            "width": null
          }
        },
        "c72e8d0ade1e4c71857063eb1d78fe54": {
          "model_module": "@jupyter-widgets/base",
          "model_name": "LayoutModel",
          "model_module_version": "1.2.0",
          "state": {
            "_model_module": "@jupyter-widgets/base",
            "_model_module_version": "1.2.0",
            "_model_name": "LayoutModel",
            "_view_count": null,
            "_view_module": "@jupyter-widgets/base",
            "_view_module_version": "1.2.0",
            "_view_name": "LayoutView",
            "align_content": null,
            "align_items": null,
            "align_self": null,
            "border": null,
            "bottom": null,
            "display": null,
            "flex": null,
            "flex_flow": null,
            "grid_area": null,
            "grid_auto_columns": null,
            "grid_auto_flow": null,
            "grid_auto_rows": null,
            "grid_column": null,
            "grid_gap": null,
            "grid_row": null,
            "grid_template_areas": null,
            "grid_template_columns": null,
            "grid_template_rows": null,
            "height": null,
            "justify_content": null,
            "justify_items": null,
            "left": null,
            "margin": null,
            "max_height": null,
            "max_width": null,
            "min_height": null,
            "min_width": null,
            "object_fit": null,
            "object_position": null,
            "order": null,
            "overflow": null,
            "overflow_x": null,
            "overflow_y": null,
            "padding": null,
            "right": null,
            "top": null,
            "visibility": null,
            "width": null
          }
        },
        "e861a548f3df4030b6d705553ca29d0f": {
          "model_module": "@jupyter-widgets/controls",
          "model_name": "DescriptionStyleModel",
          "model_module_version": "1.5.0",
          "state": {
            "_model_module": "@jupyter-widgets/controls",
            "_model_module_version": "1.5.0",
            "_model_name": "DescriptionStyleModel",
            "_view_count": null,
            "_view_module": "@jupyter-widgets/base",
            "_view_module_version": "1.2.0",
            "_view_name": "StyleView",
            "description_width": ""
          }
        },
        "8e4921ce5c6d41748ed878e9750eb89d": {
          "model_module": "@jupyter-widgets/base",
          "model_name": "LayoutModel",
          "model_module_version": "1.2.0",
          "state": {
            "_model_module": "@jupyter-widgets/base",
            "_model_module_version": "1.2.0",
            "_model_name": "LayoutModel",
            "_view_count": null,
            "_view_module": "@jupyter-widgets/base",
            "_view_module_version": "1.2.0",
            "_view_name": "LayoutView",
            "align_content": null,
            "align_items": null,
            "align_self": null,
            "border": null,
            "bottom": null,
            "display": null,
            "flex": null,
            "flex_flow": null,
            "grid_area": null,
            "grid_auto_columns": null,
            "grid_auto_flow": null,
            "grid_auto_rows": null,
            "grid_column": null,
            "grid_gap": null,
            "grid_row": null,
            "grid_template_areas": null,
            "grid_template_columns": null,
            "grid_template_rows": null,
            "height": null,
            "justify_content": null,
            "justify_items": null,
            "left": null,
            "margin": null,
            "max_height": null,
            "max_width": null,
            "min_height": null,
            "min_width": null,
            "object_fit": null,
            "object_position": null,
            "order": null,
            "overflow": null,
            "overflow_x": null,
            "overflow_y": null,
            "padding": null,
            "right": null,
            "top": null,
            "visibility": null,
            "width": null
          }
        },
        "6372d183fd0a459bbe86c6c9fca2fb91": {
          "model_module": "@jupyter-widgets/controls",
          "model_name": "ProgressStyleModel",
          "model_module_version": "1.5.0",
          "state": {
            "_model_module": "@jupyter-widgets/controls",
            "_model_module_version": "1.5.0",
            "_model_name": "ProgressStyleModel",
            "_view_count": null,
            "_view_module": "@jupyter-widgets/base",
            "_view_module_version": "1.2.0",
            "_view_name": "StyleView",
            "bar_color": null,
            "description_width": ""
          }
        },
        "f480b739331c40ccb83ac1cf7c6f66e7": {
          "model_module": "@jupyter-widgets/base",
          "model_name": "LayoutModel",
          "model_module_version": "1.2.0",
          "state": {
            "_model_module": "@jupyter-widgets/base",
            "_model_module_version": "1.2.0",
            "_model_name": "LayoutModel",
            "_view_count": null,
            "_view_module": "@jupyter-widgets/base",
            "_view_module_version": "1.2.0",
            "_view_name": "LayoutView",
            "align_content": null,
            "align_items": null,
            "align_self": null,
            "border": null,
            "bottom": null,
            "display": null,
            "flex": null,
            "flex_flow": null,
            "grid_area": null,
            "grid_auto_columns": null,
            "grid_auto_flow": null,
            "grid_auto_rows": null,
            "grid_column": null,
            "grid_gap": null,
            "grid_row": null,
            "grid_template_areas": null,
            "grid_template_columns": null,
            "grid_template_rows": null,
            "height": null,
            "justify_content": null,
            "justify_items": null,
            "left": null,
            "margin": null,
            "max_height": null,
            "max_width": null,
            "min_height": null,
            "min_width": null,
            "object_fit": null,
            "object_position": null,
            "order": null,
            "overflow": null,
            "overflow_x": null,
            "overflow_y": null,
            "padding": null,
            "right": null,
            "top": null,
            "visibility": null,
            "width": null
          }
        },
        "5b3aca7cd5be489ba685965cefa81955": {
          "model_module": "@jupyter-widgets/controls",
          "model_name": "DescriptionStyleModel",
          "model_module_version": "1.5.0",
          "state": {
            "_model_module": "@jupyter-widgets/controls",
            "_model_module_version": "1.5.0",
            "_model_name": "DescriptionStyleModel",
            "_view_count": null,
            "_view_module": "@jupyter-widgets/base",
            "_view_module_version": "1.2.0",
            "_view_name": "StyleView",
            "description_width": ""
          }
        },
        "faf665651d3d4c2a9a485fb742c834cb": {
          "model_module": "@jupyter-widgets/controls",
          "model_name": "HBoxModel",
          "model_module_version": "1.5.0",
          "state": {
            "_dom_classes": [],
            "_model_module": "@jupyter-widgets/controls",
            "_model_module_version": "1.5.0",
            "_model_name": "HBoxModel",
            "_view_count": null,
            "_view_module": "@jupyter-widgets/controls",
            "_view_module_version": "1.5.0",
            "_view_name": "HBoxView",
            "box_style": "",
            "children": [
              "IPY_MODEL_200671ef637848ef8f980ecc4ecd2b4f",
              "IPY_MODEL_99a22ab7c7134ee2958c0deef18fe56b",
              "IPY_MODEL_bf6c89101d254782942b1921f14e979d"
            ],
            "layout": "IPY_MODEL_04cd122408074b7aa3065509280375c3"
          }
        },
        "200671ef637848ef8f980ecc4ecd2b4f": {
          "model_module": "@jupyter-widgets/controls",
          "model_name": "HTMLModel",
          "model_module_version": "1.5.0",
          "state": {
            "_dom_classes": [],
            "_model_module": "@jupyter-widgets/controls",
            "_model_module_version": "1.5.0",
            "_model_name": "HTMLModel",
            "_view_count": null,
            "_view_module": "@jupyter-widgets/controls",
            "_view_module_version": "1.5.0",
            "_view_name": "HTMLView",
            "description": "",
            "description_tooltip": null,
            "layout": "IPY_MODEL_8408cbd8ad494a3e9253ea620d14ab56",
            "placeholder": "​",
            "style": "IPY_MODEL_156cedc2cc444bc48dd2217cd2813ef2",
            "value": "Downloading: 100%"
          }
        },
        "99a22ab7c7134ee2958c0deef18fe56b": {
          "model_module": "@jupyter-widgets/controls",
          "model_name": "FloatProgressModel",
          "model_module_version": "1.5.0",
          "state": {
            "_dom_classes": [],
            "_model_module": "@jupyter-widgets/controls",
            "_model_module_version": "1.5.0",
            "_model_name": "FloatProgressModel",
            "_view_count": null,
            "_view_module": "@jupyter-widgets/controls",
            "_view_module_version": "1.5.0",
            "_view_name": "ProgressView",
            "bar_style": "success",
            "description": "",
            "description_tooltip": null,
            "layout": "IPY_MODEL_69d4c8e9b2254f77901df8aa36e456cf",
            "max": 456318,
            "min": 0,
            "orientation": "horizontal",
            "style": "IPY_MODEL_26e7f75b6ff84162967edb0d244e8046",
            "value": 456318
          }
        },
        "bf6c89101d254782942b1921f14e979d": {
          "model_module": "@jupyter-widgets/controls",
          "model_name": "HTMLModel",
          "model_module_version": "1.5.0",
          "state": {
            "_dom_classes": [],
            "_model_module": "@jupyter-widgets/controls",
            "_model_module_version": "1.5.0",
            "_model_name": "HTMLModel",
            "_view_count": null,
            "_view_module": "@jupyter-widgets/controls",
            "_view_module_version": "1.5.0",
            "_view_name": "HTMLView",
            "description": "",
            "description_tooltip": null,
            "layout": "IPY_MODEL_bc3a751883684b058aebe6ee418e8e23",
            "placeholder": "​",
            "style": "IPY_MODEL_6c0be1050a9d4863890ef909ae1fd8ac",
            "value": " 446k/446k [00:00&lt;00:00, 670kB/s]"
          }
        },
        "04cd122408074b7aa3065509280375c3": {
          "model_module": "@jupyter-widgets/base",
          "model_name": "LayoutModel",
          "model_module_version": "1.2.0",
          "state": {
            "_model_module": "@jupyter-widgets/base",
            "_model_module_version": "1.2.0",
            "_model_name": "LayoutModel",
            "_view_count": null,
            "_view_module": "@jupyter-widgets/base",
            "_view_module_version": "1.2.0",
            "_view_name": "LayoutView",
            "align_content": null,
            "align_items": null,
            "align_self": null,
            "border": null,
            "bottom": null,
            "display": null,
            "flex": null,
            "flex_flow": null,
            "grid_area": null,
            "grid_auto_columns": null,
            "grid_auto_flow": null,
            "grid_auto_rows": null,
            "grid_column": null,
            "grid_gap": null,
            "grid_row": null,
            "grid_template_areas": null,
            "grid_template_columns": null,
            "grid_template_rows": null,
            "height": null,
            "justify_content": null,
            "justify_items": null,
            "left": null,
            "margin": null,
            "max_height": null,
            "max_width": null,
            "min_height": null,
            "min_width": null,
            "object_fit": null,
            "object_position": null,
            "order": null,
            "overflow": null,
            "overflow_x": null,
            "overflow_y": null,
            "padding": null,
            "right": null,
            "top": null,
            "visibility": null,
            "width": null
          }
        },
        "8408cbd8ad494a3e9253ea620d14ab56": {
          "model_module": "@jupyter-widgets/base",
          "model_name": "LayoutModel",
          "model_module_version": "1.2.0",
          "state": {
            "_model_module": "@jupyter-widgets/base",
            "_model_module_version": "1.2.0",
            "_model_name": "LayoutModel",
            "_view_count": null,
            "_view_module": "@jupyter-widgets/base",
            "_view_module_version": "1.2.0",
            "_view_name": "LayoutView",
            "align_content": null,
            "align_items": null,
            "align_self": null,
            "border": null,
            "bottom": null,
            "display": null,
            "flex": null,
            "flex_flow": null,
            "grid_area": null,
            "grid_auto_columns": null,
            "grid_auto_flow": null,
            "grid_auto_rows": null,
            "grid_column": null,
            "grid_gap": null,
            "grid_row": null,
            "grid_template_areas": null,
            "grid_template_columns": null,
            "grid_template_rows": null,
            "height": null,
            "justify_content": null,
            "justify_items": null,
            "left": null,
            "margin": null,
            "max_height": null,
            "max_width": null,
            "min_height": null,
            "min_width": null,
            "object_fit": null,
            "object_position": null,
            "order": null,
            "overflow": null,
            "overflow_x": null,
            "overflow_y": null,
            "padding": null,
            "right": null,
            "top": null,
            "visibility": null,
            "width": null
          }
        },
        "156cedc2cc444bc48dd2217cd2813ef2": {
          "model_module": "@jupyter-widgets/controls",
          "model_name": "DescriptionStyleModel",
          "model_module_version": "1.5.0",
          "state": {
            "_model_module": "@jupyter-widgets/controls",
            "_model_module_version": "1.5.0",
            "_model_name": "DescriptionStyleModel",
            "_view_count": null,
            "_view_module": "@jupyter-widgets/base",
            "_view_module_version": "1.2.0",
            "_view_name": "StyleView",
            "description_width": ""
          }
        },
        "69d4c8e9b2254f77901df8aa36e456cf": {
          "model_module": "@jupyter-widgets/base",
          "model_name": "LayoutModel",
          "model_module_version": "1.2.0",
          "state": {
            "_model_module": "@jupyter-widgets/base",
            "_model_module_version": "1.2.0",
            "_model_name": "LayoutModel",
            "_view_count": null,
            "_view_module": "@jupyter-widgets/base",
            "_view_module_version": "1.2.0",
            "_view_name": "LayoutView",
            "align_content": null,
            "align_items": null,
            "align_self": null,
            "border": null,
            "bottom": null,
            "display": null,
            "flex": null,
            "flex_flow": null,
            "grid_area": null,
            "grid_auto_columns": null,
            "grid_auto_flow": null,
            "grid_auto_rows": null,
            "grid_column": null,
            "grid_gap": null,
            "grid_row": null,
            "grid_template_areas": null,
            "grid_template_columns": null,
            "grid_template_rows": null,
            "height": null,
            "justify_content": null,
            "justify_items": null,
            "left": null,
            "margin": null,
            "max_height": null,
            "max_width": null,
            "min_height": null,
            "min_width": null,
            "object_fit": null,
            "object_position": null,
            "order": null,
            "overflow": null,
            "overflow_x": null,
            "overflow_y": null,
            "padding": null,
            "right": null,
            "top": null,
            "visibility": null,
            "width": null
          }
        },
        "26e7f75b6ff84162967edb0d244e8046": {
          "model_module": "@jupyter-widgets/controls",
          "model_name": "ProgressStyleModel",
          "model_module_version": "1.5.0",
          "state": {
            "_model_module": "@jupyter-widgets/controls",
            "_model_module_version": "1.5.0",
            "_model_name": "ProgressStyleModel",
            "_view_count": null,
            "_view_module": "@jupyter-widgets/base",
            "_view_module_version": "1.2.0",
            "_view_name": "StyleView",
            "bar_color": null,
            "description_width": ""
          }
        },
        "bc3a751883684b058aebe6ee418e8e23": {
          "model_module": "@jupyter-widgets/base",
          "model_name": "LayoutModel",
          "model_module_version": "1.2.0",
          "state": {
            "_model_module": "@jupyter-widgets/base",
            "_model_module_version": "1.2.0",
            "_model_name": "LayoutModel",
            "_view_count": null,
            "_view_module": "@jupyter-widgets/base",
            "_view_module_version": "1.2.0",
            "_view_name": "LayoutView",
            "align_content": null,
            "align_items": null,
            "align_self": null,
            "border": null,
            "bottom": null,
            "display": null,
            "flex": null,
            "flex_flow": null,
            "grid_area": null,
            "grid_auto_columns": null,
            "grid_auto_flow": null,
            "grid_auto_rows": null,
            "grid_column": null,
            "grid_gap": null,
            "grid_row": null,
            "grid_template_areas": null,
            "grid_template_columns": null,
            "grid_template_rows": null,
            "height": null,
            "justify_content": null,
            "justify_items": null,
            "left": null,
            "margin": null,
            "max_height": null,
            "max_width": null,
            "min_height": null,
            "min_width": null,
            "object_fit": null,
            "object_position": null,
            "order": null,
            "overflow": null,
            "overflow_x": null,
            "overflow_y": null,
            "padding": null,
            "right": null,
            "top": null,
            "visibility": null,
            "width": null
          }
        },
        "6c0be1050a9d4863890ef909ae1fd8ac": {
          "model_module": "@jupyter-widgets/controls",
          "model_name": "DescriptionStyleModel",
          "model_module_version": "1.5.0",
          "state": {
            "_model_module": "@jupyter-widgets/controls",
            "_model_module_version": "1.5.0",
            "_model_name": "DescriptionStyleModel",
            "_view_count": null,
            "_view_module": "@jupyter-widgets/base",
            "_view_module_version": "1.2.0",
            "_view_name": "StyleView",
            "description_width": ""
          }
        },
        "64b178ea84294958b11bbf77ed34c88f": {
          "model_module": "@jupyter-widgets/controls",
          "model_name": "HBoxModel",
          "model_module_version": "1.5.0",
          "state": {
            "_dom_classes": [],
            "_model_module": "@jupyter-widgets/controls",
            "_model_module_version": "1.5.0",
            "_model_name": "HBoxModel",
            "_view_count": null,
            "_view_module": "@jupyter-widgets/controls",
            "_view_module_version": "1.5.0",
            "_view_name": "HBoxView",
            "box_style": "",
            "children": [
              "IPY_MODEL_3624374ee55b421f8a96cf6141deebe2",
              "IPY_MODEL_4defc536030e42e6baa0c7ce50fae31b",
              "IPY_MODEL_db1361d8e595446c99f563fa352debd9"
            ],
            "layout": "IPY_MODEL_52b299a2bea94b588c1c2e68c51c44ab"
          }
        },
        "3624374ee55b421f8a96cf6141deebe2": {
          "model_module": "@jupyter-widgets/controls",
          "model_name": "HTMLModel",
          "model_module_version": "1.5.0",
          "state": {
            "_dom_classes": [],
            "_model_module": "@jupyter-widgets/controls",
            "_model_module_version": "1.5.0",
            "_model_name": "HTMLModel",
            "_view_count": null,
            "_view_module": "@jupyter-widgets/controls",
            "_view_module_version": "1.5.0",
            "_view_name": "HTMLView",
            "description": "",
            "description_tooltip": null,
            "layout": "IPY_MODEL_86e780d1c4d74cedb2aa760491ae4a15",
            "placeholder": "​",
            "style": "IPY_MODEL_e9abb42b4218410ea05ae84ca7bc4f2e",
            "value": "Downloading: 100%"
          }
        },
        "4defc536030e42e6baa0c7ce50fae31b": {
          "model_module": "@jupyter-widgets/controls",
          "model_name": "FloatProgressModel",
          "model_module_version": "1.5.0",
          "state": {
            "_dom_classes": [],
            "_model_module": "@jupyter-widgets/controls",
            "_model_module_version": "1.5.0",
            "_model_name": "FloatProgressModel",
            "_view_count": null,
            "_view_module": "@jupyter-widgets/controls",
            "_view_module_version": "1.5.0",
            "_view_name": "ProgressView",
            "bar_style": "success",
            "description": "",
            "description_tooltip": null,
            "layout": "IPY_MODEL_40fbdfdd4f934a3daa1724a0150ac17c",
            "max": 1425941629,
            "min": 0,
            "orientation": "horizontal",
            "style": "IPY_MODEL_23135ff333a24d8fb90cdf7ada77d25c",
            "value": 1425941629
          }
        },
        "db1361d8e595446c99f563fa352debd9": {
          "model_module": "@jupyter-widgets/controls",
          "model_name": "HTMLModel",
          "model_module_version": "1.5.0",
          "state": {
            "_dom_classes": [],
            "_model_module": "@jupyter-widgets/controls",
            "_model_module_version": "1.5.0",
            "_model_name": "HTMLModel",
            "_view_count": null,
            "_view_module": "@jupyter-widgets/controls",
            "_view_module_version": "1.5.0",
            "_view_name": "HTMLView",
            "description": "",
            "description_tooltip": null,
            "layout": "IPY_MODEL_706587781e43408884fa5ce2931d8767",
            "placeholder": "​",
            "style": "IPY_MODEL_0647c08c296a4f8e9a161d1375dc03cc",
            "value": " 1.33G/1.33G [00:41&lt;00:00, 34.1MB/s]"
          }
        },
        "52b299a2bea94b588c1c2e68c51c44ab": {
          "model_module": "@jupyter-widgets/base",
          "model_name": "LayoutModel",
          "model_module_version": "1.2.0",
          "state": {
            "_model_module": "@jupyter-widgets/base",
            "_model_module_version": "1.2.0",
            "_model_name": "LayoutModel",
            "_view_count": null,
            "_view_module": "@jupyter-widgets/base",
            "_view_module_version": "1.2.0",
            "_view_name": "LayoutView",
            "align_content": null,
            "align_items": null,
            "align_self": null,
            "border": null,
            "bottom": null,
            "display": null,
            "flex": null,
            "flex_flow": null,
            "grid_area": null,
            "grid_auto_columns": null,
            "grid_auto_flow": null,
            "grid_auto_rows": null,
            "grid_column": null,
            "grid_gap": null,
            "grid_row": null,
            "grid_template_areas": null,
            "grid_template_columns": null,
            "grid_template_rows": null,
            "height": null,
            "justify_content": null,
            "justify_items": null,
            "left": null,
            "margin": null,
            "max_height": null,
            "max_width": null,
            "min_height": null,
            "min_width": null,
            "object_fit": null,
            "object_position": null,
            "order": null,
            "overflow": null,
            "overflow_x": null,
            "overflow_y": null,
            "padding": null,
            "right": null,
            "top": null,
            "visibility": null,
            "width": null
          }
        },
        "86e780d1c4d74cedb2aa760491ae4a15": {
          "model_module": "@jupyter-widgets/base",
          "model_name": "LayoutModel",
          "model_module_version": "1.2.0",
          "state": {
            "_model_module": "@jupyter-widgets/base",
            "_model_module_version": "1.2.0",
            "_model_name": "LayoutModel",
            "_view_count": null,
            "_view_module": "@jupyter-widgets/base",
            "_view_module_version": "1.2.0",
            "_view_name": "LayoutView",
            "align_content": null,
            "align_items": null,
            "align_self": null,
            "border": null,
            "bottom": null,
            "display": null,
            "flex": null,
            "flex_flow": null,
            "grid_area": null,
            "grid_auto_columns": null,
            "grid_auto_flow": null,
            "grid_auto_rows": null,
            "grid_column": null,
            "grid_gap": null,
            "grid_row": null,
            "grid_template_areas": null,
            "grid_template_columns": null,
            "grid_template_rows": null,
            "height": null,
            "justify_content": null,
            "justify_items": null,
            "left": null,
            "margin": null,
            "max_height": null,
            "max_width": null,
            "min_height": null,
            "min_width": null,
            "object_fit": null,
            "object_position": null,
            "order": null,
            "overflow": null,
            "overflow_x": null,
            "overflow_y": null,
            "padding": null,
            "right": null,
            "top": null,
            "visibility": null,
            "width": null
          }
        },
        "e9abb42b4218410ea05ae84ca7bc4f2e": {
          "model_module": "@jupyter-widgets/controls",
          "model_name": "DescriptionStyleModel",
          "model_module_version": "1.5.0",
          "state": {
            "_model_module": "@jupyter-widgets/controls",
            "_model_module_version": "1.5.0",
            "_model_name": "DescriptionStyleModel",
            "_view_count": null,
            "_view_module": "@jupyter-widgets/base",
            "_view_module_version": "1.2.0",
            "_view_name": "StyleView",
            "description_width": ""
          }
        },
        "40fbdfdd4f934a3daa1724a0150ac17c": {
          "model_module": "@jupyter-widgets/base",
          "model_name": "LayoutModel",
          "model_module_version": "1.2.0",
          "state": {
            "_model_module": "@jupyter-widgets/base",
            "_model_module_version": "1.2.0",
            "_model_name": "LayoutModel",
            "_view_count": null,
            "_view_module": "@jupyter-widgets/base",
            "_view_module_version": "1.2.0",
            "_view_name": "LayoutView",
            "align_content": null,
            "align_items": null,
            "align_self": null,
            "border": null,
            "bottom": null,
            "display": null,
            "flex": null,
            "flex_flow": null,
            "grid_area": null,
            "grid_auto_columns": null,
            "grid_auto_flow": null,
            "grid_auto_rows": null,
            "grid_column": null,
            "grid_gap": null,
            "grid_row": null,
            "grid_template_areas": null,
            "grid_template_columns": null,
            "grid_template_rows": null,
            "height": null,
            "justify_content": null,
            "justify_items": null,
            "left": null,
            "margin": null,
            "max_height": null,
            "max_width": null,
            "min_height": null,
            "min_width": null,
            "object_fit": null,
            "object_position": null,
            "order": null,
            "overflow": null,
            "overflow_x": null,
            "overflow_y": null,
            "padding": null,
            "right": null,
            "top": null,
            "visibility": null,
            "width": null
          }
        },
        "23135ff333a24d8fb90cdf7ada77d25c": {
          "model_module": "@jupyter-widgets/controls",
          "model_name": "ProgressStyleModel",
          "model_module_version": "1.5.0",
          "state": {
            "_model_module": "@jupyter-widgets/controls",
            "_model_module_version": "1.5.0",
            "_model_name": "ProgressStyleModel",
            "_view_count": null,
            "_view_module": "@jupyter-widgets/base",
            "_view_module_version": "1.2.0",
            "_view_name": "StyleView",
            "bar_color": null,
            "description_width": ""
          }
        },
        "706587781e43408884fa5ce2931d8767": {
          "model_module": "@jupyter-widgets/base",
          "model_name": "LayoutModel",
          "model_module_version": "1.2.0",
          "state": {
            "_model_module": "@jupyter-widgets/base",
            "_model_module_version": "1.2.0",
            "_model_name": "LayoutModel",
            "_view_count": null,
            "_view_module": "@jupyter-widgets/base",
            "_view_module_version": "1.2.0",
            "_view_name": "LayoutView",
            "align_content": null,
            "align_items": null,
            "align_self": null,
            "border": null,
            "bottom": null,
            "display": null,
            "flex": null,
            "flex_flow": null,
            "grid_area": null,
            "grid_auto_columns": null,
            "grid_auto_flow": null,
            "grid_auto_rows": null,
            "grid_column": null,
            "grid_gap": null,
            "grid_row": null,
            "grid_template_areas": null,
            "grid_template_columns": null,
            "grid_template_rows": null,
            "height": null,
            "justify_content": null,
            "justify_items": null,
            "left": null,
            "margin": null,
            "max_height": null,
            "max_width": null,
            "min_height": null,
            "min_width": null,
            "object_fit": null,
            "object_position": null,
            "order": null,
            "overflow": null,
            "overflow_x": null,
            "overflow_y": null,
            "padding": null,
            "right": null,
            "top": null,
            "visibility": null,
            "width": null
          }
        },
        "0647c08c296a4f8e9a161d1375dc03cc": {
          "model_module": "@jupyter-widgets/controls",
          "model_name": "DescriptionStyleModel",
          "model_module_version": "1.5.0",
          "state": {
            "_model_module": "@jupyter-widgets/controls",
            "_model_module_version": "1.5.0",
            "_model_name": "DescriptionStyleModel",
            "_view_count": null,
            "_view_module": "@jupyter-widgets/base",
            "_view_module_version": "1.2.0",
            "_view_name": "StyleView",
            "description_width": ""
          }
        },
        "e2a65fa7f72f41979bc61df680b23690": {
          "model_module": "@jupyter-widgets/controls",
          "model_name": "HBoxModel",
          "model_module_version": "1.5.0",
          "state": {
            "_dom_classes": [],
            "_model_module": "@jupyter-widgets/controls",
            "_model_module_version": "1.5.0",
            "_model_name": "HBoxModel",
            "_view_count": null,
            "_view_module": "@jupyter-widgets/controls",
            "_view_module_version": "1.5.0",
            "_view_name": "HBoxView",
            "box_style": "",
            "children": [
              "IPY_MODEL_e3517ced88cf40209ddb8c4f74282b3a",
              "IPY_MODEL_00e50e2b736d4af9bee5b0bedf731036",
              "IPY_MODEL_f55160546b85457b94df3a4c74ed385f"
            ],
            "layout": "IPY_MODEL_fb7a1b29a7874b8ba43d6946e3a0531a"
          }
        },
        "e3517ced88cf40209ddb8c4f74282b3a": {
          "model_module": "@jupyter-widgets/controls",
          "model_name": "HTMLModel",
          "model_module_version": "1.5.0",
          "state": {
            "_dom_classes": [],
            "_model_module": "@jupyter-widgets/controls",
            "_model_module_version": "1.5.0",
            "_model_name": "HTMLModel",
            "_view_count": null,
            "_view_module": "@jupyter-widgets/controls",
            "_view_module_version": "1.5.0",
            "_view_name": "HTMLView",
            "description": "",
            "description_tooltip": null,
            "layout": "IPY_MODEL_7103fd8fad4c453cb0831a366b11487c",
            "placeholder": "​",
            "style": "IPY_MODEL_4364538584394ec793ddb22781c1640a",
            "value": "100%"
          }
        },
        "00e50e2b736d4af9bee5b0bedf731036": {
          "model_module": "@jupyter-widgets/controls",
          "model_name": "FloatProgressModel",
          "model_module_version": "1.5.0",
          "state": {
            "_dom_classes": [],
            "_model_module": "@jupyter-widgets/controls",
            "_model_module_version": "1.5.0",
            "_model_name": "FloatProgressModel",
            "_view_count": null,
            "_view_module": "@jupyter-widgets/controls",
            "_view_module_version": "1.5.0",
            "_view_name": "ProgressView",
            "bar_style": "success",
            "description": "",
            "description_tooltip": null,
            "layout": "IPY_MODEL_2a69ef126f3641f98e6ec0d7ace62871",
            "max": 3,
            "min": 0,
            "orientation": "horizontal",
            "style": "IPY_MODEL_36fc705fb5924c838b0b5e67486c0dd8",
            "value": 3
          }
        },
        "f55160546b85457b94df3a4c74ed385f": {
          "model_module": "@jupyter-widgets/controls",
          "model_name": "HTMLModel",
          "model_module_version": "1.5.0",
          "state": {
            "_dom_classes": [],
            "_model_module": "@jupyter-widgets/controls",
            "_model_module_version": "1.5.0",
            "_model_name": "HTMLModel",
            "_view_count": null,
            "_view_module": "@jupyter-widgets/controls",
            "_view_module_version": "1.5.0",
            "_view_name": "HTMLView",
            "description": "",
            "description_tooltip": null,
            "layout": "IPY_MODEL_fd3c6ca3cda949eab731bed812334a26",
            "placeholder": "​",
            "style": "IPY_MODEL_288fb417eca24a06b7e6548ab3a0406a",
            "value": " 3/3 [00:00&lt;00:00, 38.89it/s]"
          }
        },
        "fb7a1b29a7874b8ba43d6946e3a0531a": {
          "model_module": "@jupyter-widgets/base",
          "model_name": "LayoutModel",
          "model_module_version": "1.2.0",
          "state": {
            "_model_module": "@jupyter-widgets/base",
            "_model_module_version": "1.2.0",
            "_model_name": "LayoutModel",
            "_view_count": null,
            "_view_module": "@jupyter-widgets/base",
            "_view_module_version": "1.2.0",
            "_view_name": "LayoutView",
            "align_content": null,
            "align_items": null,
            "align_self": null,
            "border": null,
            "bottom": null,
            "display": null,
            "flex": null,
            "flex_flow": null,
            "grid_area": null,
            "grid_auto_columns": null,
            "grid_auto_flow": null,
            "grid_auto_rows": null,
            "grid_column": null,
            "grid_gap": null,
            "grid_row": null,
            "grid_template_areas": null,
            "grid_template_columns": null,
            "grid_template_rows": null,
            "height": null,
            "justify_content": null,
            "justify_items": null,
            "left": null,
            "margin": null,
            "max_height": null,
            "max_width": null,
            "min_height": null,
            "min_width": null,
            "object_fit": null,
            "object_position": null,
            "order": null,
            "overflow": null,
            "overflow_x": null,
            "overflow_y": null,
            "padding": null,
            "right": null,
            "top": null,
            "visibility": null,
            "width": null
          }
        },
        "7103fd8fad4c453cb0831a366b11487c": {
          "model_module": "@jupyter-widgets/base",
          "model_name": "LayoutModel",
          "model_module_version": "1.2.0",
          "state": {
            "_model_module": "@jupyter-widgets/base",
            "_model_module_version": "1.2.0",
            "_model_name": "LayoutModel",
            "_view_count": null,
            "_view_module": "@jupyter-widgets/base",
            "_view_module_version": "1.2.0",
            "_view_name": "LayoutView",
            "align_content": null,
            "align_items": null,
            "align_self": null,
            "border": null,
            "bottom": null,
            "display": null,
            "flex": null,
            "flex_flow": null,
            "grid_area": null,
            "grid_auto_columns": null,
            "grid_auto_flow": null,
            "grid_auto_rows": null,
            "grid_column": null,
            "grid_gap": null,
            "grid_row": null,
            "grid_template_areas": null,
            "grid_template_columns": null,
            "grid_template_rows": null,
            "height": null,
            "justify_content": null,
            "justify_items": null,
            "left": null,
            "margin": null,
            "max_height": null,
            "max_width": null,
            "min_height": null,
            "min_width": null,
            "object_fit": null,
            "object_position": null,
            "order": null,
            "overflow": null,
            "overflow_x": null,
            "overflow_y": null,
            "padding": null,
            "right": null,
            "top": null,
            "visibility": null,
            "width": null
          }
        },
        "4364538584394ec793ddb22781c1640a": {
          "model_module": "@jupyter-widgets/controls",
          "model_name": "DescriptionStyleModel",
          "model_module_version": "1.5.0",
          "state": {
            "_model_module": "@jupyter-widgets/controls",
            "_model_module_version": "1.5.0",
            "_model_name": "DescriptionStyleModel",
            "_view_count": null,
            "_view_module": "@jupyter-widgets/base",
            "_view_module_version": "1.2.0",
            "_view_name": "StyleView",
            "description_width": ""
          }
        },
        "2a69ef126f3641f98e6ec0d7ace62871": {
          "model_module": "@jupyter-widgets/base",
          "model_name": "LayoutModel",
          "model_module_version": "1.2.0",
          "state": {
            "_model_module": "@jupyter-widgets/base",
            "_model_module_version": "1.2.0",
            "_model_name": "LayoutModel",
            "_view_count": null,
            "_view_module": "@jupyter-widgets/base",
            "_view_module_version": "1.2.0",
            "_view_name": "LayoutView",
            "align_content": null,
            "align_items": null,
            "align_self": null,
            "border": null,
            "bottom": null,
            "display": null,
            "flex": null,
            "flex_flow": null,
            "grid_area": null,
            "grid_auto_columns": null,
            "grid_auto_flow": null,
            "grid_auto_rows": null,
            "grid_column": null,
            "grid_gap": null,
            "grid_row": null,
            "grid_template_areas": null,
            "grid_template_columns": null,
            "grid_template_rows": null,
            "height": null,
            "justify_content": null,
            "justify_items": null,
            "left": null,
            "margin": null,
            "max_height": null,
            "max_width": null,
            "min_height": null,
            "min_width": null,
            "object_fit": null,
            "object_position": null,
            "order": null,
            "overflow": null,
            "overflow_x": null,
            "overflow_y": null,
            "padding": null,
            "right": null,
            "top": null,
            "visibility": null,
            "width": null
          }
        },
        "36fc705fb5924c838b0b5e67486c0dd8": {
          "model_module": "@jupyter-widgets/controls",
          "model_name": "ProgressStyleModel",
          "model_module_version": "1.5.0",
          "state": {
            "_model_module": "@jupyter-widgets/controls",
            "_model_module_version": "1.5.0",
            "_model_name": "ProgressStyleModel",
            "_view_count": null,
            "_view_module": "@jupyter-widgets/base",
            "_view_module_version": "1.2.0",
            "_view_name": "StyleView",
            "bar_color": null,
            "description_width": ""
          }
        },
        "fd3c6ca3cda949eab731bed812334a26": {
          "model_module": "@jupyter-widgets/base",
          "model_name": "LayoutModel",
          "model_module_version": "1.2.0",
          "state": {
            "_model_module": "@jupyter-widgets/base",
            "_model_module_version": "1.2.0",
            "_model_name": "LayoutModel",
            "_view_count": null,
            "_view_module": "@jupyter-widgets/base",
            "_view_module_version": "1.2.0",
            "_view_name": "LayoutView",
            "align_content": null,
            "align_items": null,
            "align_self": null,
            "border": null,
            "bottom": null,
            "display": null,
            "flex": null,
            "flex_flow": null,
            "grid_area": null,
            "grid_auto_columns": null,
            "grid_auto_flow": null,
            "grid_auto_rows": null,
            "grid_column": null,
            "grid_gap": null,
            "grid_row": null,
            "grid_template_areas": null,
            "grid_template_columns": null,
            "grid_template_rows": null,
            "height": null,
            "justify_content": null,
            "justify_items": null,
            "left": null,
            "margin": null,
            "max_height": null,
            "max_width": null,
            "min_height": null,
            "min_width": null,
            "object_fit": null,
            "object_position": null,
            "order": null,
            "overflow": null,
            "overflow_x": null,
            "overflow_y": null,
            "padding": null,
            "right": null,
            "top": null,
            "visibility": null,
            "width": null
          }
        },
        "288fb417eca24a06b7e6548ab3a0406a": {
          "model_module": "@jupyter-widgets/controls",
          "model_name": "DescriptionStyleModel",
          "model_module_version": "1.5.0",
          "state": {
            "_model_module": "@jupyter-widgets/controls",
            "_model_module_version": "1.5.0",
            "_model_name": "DescriptionStyleModel",
            "_view_count": null,
            "_view_module": "@jupyter-widgets/base",
            "_view_module_version": "1.2.0",
            "_view_name": "StyleView",
            "description_width": ""
          }
        }
      }
    }
  },
  "nbformat": 4,
  "nbformat_minor": 0
}