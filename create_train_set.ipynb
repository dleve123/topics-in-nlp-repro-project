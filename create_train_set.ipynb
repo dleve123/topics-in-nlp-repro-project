{
 "cells": [
  {
   "cell_type": "code",
   "execution_count": 7,
   "metadata": {},
   "outputs": [
    {
     "name": "stderr",
     "output_type": "stream",
     "text": [
      "Using custom data configuration default\n",
      "Reusing dataset xsum (/Users/anton164/.cache/huggingface/datasets/xsum/default/1.2.0/32c23220eadddb1149b16ed2e9430a05293768cfffbdfd151058697d4c11f934)\n",
      "100%|██████████| 3/3 [00:00<00:00, 116.65it/s]\n"
     ]
    },
    {
     "data": {
      "text/plain": [
       "{'train': (204045, 3), 'validation': (11332, 3), 'test': (11334, 3)}"
      ]
     },
     "execution_count": 7,
     "metadata": {},
     "output_type": "execute_result"
    }
   ],
   "source": [
    "from datasets import load_dataset\n",
    "xsum = load_dataset(\"xsum\")\n",
    "xsum.shape"
   ]
  },
  {
   "cell_type": "markdown",
   "metadata": {},
   "source": [
    "### LOAD dataset from paper"
   ]
  },
  {
   "cell_type": "code",
   "execution_count": 27,
   "metadata": {},
   "outputs": [
    {
     "name": "stdout",
     "output_type": "stream",
     "text": [
      "./data/paper/train.jsonl\n",
      "total size 194436\n",
      "with positive examples 194436\n",
      "with negative examples 34262\n",
      "\n",
      "./data/paper/val.jsonl\n",
      "total size 11315\n",
      "with positive examples 11315\n",
      "with negative examples 10080\n",
      "\n"
     ]
    }
   ],
   "source": [
    "import json\n",
    "\n",
    "paper_datasets = []\n",
    "for dataset_name in [\"./data/paper/train.jsonl\", \"./data/paper/val.jsonl\"]:\n",
    "    print(dataset_name)\n",
    "    dataset = []\n",
    "    total_size = 0\n",
    "    with_positive_examples = 0\n",
    "    with_negative_examples = 0\n",
    "    with open(dataset_name, \"r\") as f:\n",
    "        for line in f:\n",
    "            total_size += 1\n",
    "            obj = json.loads(line)\n",
    "            if len(obj[\"positive_examples\"]) > 0:\n",
    "                with_positive_examples += 1\n",
    "            if len(obj[\"negative_examples\"]) > 0:\n",
    "                with_negative_examples += 1\n",
    "            dataset.append(obj)\n",
    "    paper_datasets.append(dataset)\n",
    "    print(\"total size\", total_size)\n",
    "    print(\"with positive examples\", with_positive_examples)\n",
    "    print(\"with negative examples\", with_negative_examples)\n",
    "    print()"
   ]
  },
  {
   "cell_type": "code",
   "execution_count": 32,
   "metadata": {},
   "outputs": [
    {
     "data": {
      "text/plain": [
       "{'source_text': 'The problem is affecting people using the older versions of the PlayStation 3, called the \"Fat\" model.The problem isn\\'t affecting the newer PS3 Slim systems that have been on sale since September last year.Sony have also said they are aiming to have the problem fixed shortly but is advising some users to avoid using their console for the time being.\"We hope to resolve this problem within the next 24 hours,\" a statement reads. \"In the meantime, if you have a model other than the new slim PS3, we advise that you do not use your PS3 system, as doing so may result in errors in some functionality, such as recording obtained trophies, and not being able to restore certain data.\"We believe we have identified that this problem is being caused by a bug in the clock functionality incorporated in the system.\"The PlayStation Network is used by millions of people around the world.It allows users to play their friends at games like Fifa over the internet and also do things like download software or visit online stores.\\n',\n",
       " 'positive_examples': ['Sony has told owners of older models of its PlayStation 3 console to stop using the machine because of a problem with the PlayStation Network.'],\n",
       " 'negative_examples': ['Sony has told owners of older models of its PlayStation 3 console to stop using the machine because of a problem with Sony.',\n",
       "  'Sony has told owners of older models of its PlayStation 3 console to stop using the machine because of a problem with Fifa.',\n",
       "  'Fifa has told owners of older models of its PlayStation 3 console to stop using the machine because of a problem with the PlayStation Network.',\n",
       "  'PS3 Slim has told owners of older models of its PlayStation 3 console to stop using the machine because of a problem with the PlayStation Network.'],\n",
       " 'changed_list': [['the PlayStation Network', 'Sony', 118, 141],\n",
       "  ['the PlayStation Network', 'Fifa', 118, 141],\n",
       "  ['Sony', 'Fifa', 0, 4],\n",
       "  ['Sony', 'PS3 Slim', 0, 4]]}"
      ]
     },
     "execution_count": 32,
     "metadata": {},
     "output_type": "execute_result"
    }
   ],
   "source": [
    "train_set = paper_datasets[0]\n",
    "train_set[0]"
   ]
  },
  {
   "cell_type": "markdown",
   "metadata": {},
   "source": [
    "## Testing assumption - positive example has ALL entities contained within source doc"
   ]
  },
  {
   "cell_type": "code",
   "execution_count": 35,
   "metadata": {},
   "outputs": [],
   "source": [
    "from preprocessing.entity import extract_entities, entity_overlap"
   ]
  },
  {
   "cell_type": "code",
   "execution_count": 37,
   "metadata": {},
   "outputs": [
    {
     "name": "stdout",
     "output_type": "stream",
     "text": [
      "Sony has told owners of older models of its PlayStation 3 console to stop using the machine because of a problem with the PlayStation Network.\n"
     ]
    },
    {
     "data": {
      "text/plain": [
       "[('ORG', 'Sony'),\n",
       " ('PRODUCT', 'PlayStation 3'),\n",
       " ('ORG', 'the PlayStation Network')]"
      ]
     },
     "execution_count": 37,
     "metadata": {},
     "output_type": "execute_result"
    }
   ],
   "source": [
    "source = train_set[0][\"source_text\"]\n",
    "gt_summary = train_set[0][\"positive_examples\"][0]\n",
    "\n",
    "source_ents = extract_entities(source)\n",
    "gt_summary_ents = extract_entities(gt_summary)\n",
    "\n",
    "print(gt_summary)\n",
    "gt_summary_ents"
   ]
  },
  {
   "cell_type": "code",
   "execution_count": 42,
   "metadata": {},
   "outputs": [
    {
     "name": "stdout",
     "output_type": "stream",
     "text": [
      "The problem is affecting people using the older versions of the PlayStation 3, called the \"Fat\" model.The problem isn't affecting the newer PS3 Slim systems that have been on sale since September last year.Sony have also said they are aiming to have the problem fixed shortly but is advising some users to avoid using their console for the time being.\"We hope to resolve this problem within the next 24 hours,\" a statement reads. \"In the meantime, if you have a model other than the new slim PS3, we advise that you do not use your PS3 system, as doing so may result in errors in some functionality, such as recording obtained trophies, and not being able to restore certain data.\"We believe we have identified that this problem is being caused by a bug in the clock functionality incorporated in the system.\"The PlayStation Network is used by millions of people around the world.It allows users to play their friends at games like Fifa over the internet and also do things like download software or visit online stores.\n",
      "\n"
     ]
    },
    {
     "data": {
      "text/plain": [
       "[('PRODUCT', 'the PlayStation 3'),\n",
       " ('PRODUCT', 'Fat'),\n",
       " ('ORG', 'PS3 Slim'),\n",
       " ('DATE', 'September last year'),\n",
       " ('ORG', 'Sony'),\n",
       " ('TIME', 'the next 24 hours'),\n",
       " ('PRODUCT', 'PS3'),\n",
       " ('PRODUCT', 'PS3'),\n",
       " ('ORG', 'The PlayStation Network'),\n",
       " ('CARDINAL', 'millions'),\n",
       " ('ORG', 'Fifa')]"
      ]
     },
     "execution_count": 42,
     "metadata": {},
     "output_type": "execute_result"
    }
   ],
   "source": [
    "print(source)\n",
    "extract_entities(source)"
   ]
  },
  {
   "cell_type": "code",
   "execution_count": 45,
   "metadata": {},
   "outputs": [
    {
     "data": {
      "text/plain": [
       "[('ORG', 'Sony'),\n",
       " ('PRODUCT', 'PlayStation 3'),\n",
       " ('ORG', 'the PlayStation Network')]"
      ]
     },
     "execution_count": 45,
     "metadata": {},
     "output_type": "execute_result"
    }
   ],
   "source": [
    "gt_summary_ents"
   ]
  },
  {
   "cell_type": "code",
   "execution_count": null,
   "metadata": {},
   "outputs": [],
   "source": [
    "import stanza\n",
    "from stanza import Document\n",
    "nlp = stanza.Pipeline('en')"
   ]
  },
  {
   "cell_type": "code",
   "execution_count": 52,
   "metadata": {},
   "outputs": [
    {
     "data": {
      "text/plain": [
       "'The problem is affecting people using the older versions of the PlayStation 3, called the \"Fat\" model.The problem isn\\'t affecting the newer PS3 Slim systems that have been on sale since September last year.Sony have also said they are aiming to have the problem fixed shortly but is advising some users to avoid using their console for the time being.\"We hope to resolve this problem within the next 24 hours,\" a statement reads. \"In the meantime, if you have a model other than the new slim PS3, we advise that you do not use your PS3 system, as doing so may result in errors in some functionality, such as recording obtained trophies, and not being able to restore certain data.\"We believe we have identified that this problem is being caused by a bug in the clock functionality incorporated in the system.\"The PlayStation Network is used by millions of people around the world.It allows users to play their friends at games like Fifa over the internet and also do things like download software or visit online stores.\\n'"
      ]
     },
     "execution_count": 52,
     "metadata": {},
     "output_type": "execute_result"
    }
   ],
   "source": [
    "src_doc = nlp(source)\n",
    "src_doc._text"
   ]
  },
  {
   "cell_type": "code",
   "execution_count": 56,
   "metadata": {},
   "outputs": [
    {
     "data": {
      "text/plain": [
       "(['The PlayStation Network has told owners of older models of its PlayStation 3 console to stop using the machine because of a problem with the PlayStation Network.',\n",
       "  'Fifa has told owners of older models of its PlayStation 3 console to stop using the machine because of a problem with the PlayStation Network.',\n",
       "  'PS3 Slim has told owners of older models of its PlayStation 3 console to stop using the machine because of a problem with the PlayStation Network.',\n",
       "  'Sony has told owners of older models of its Fat console to stop using the machine because of a problem with the PlayStation Network.',\n",
       "  'Sony has told owners of older models of its PS3 console to stop using the machine because of a problem with the PlayStation Network.',\n",
       "  'Sony has told owners of older models of its PlayStation 3 console to stop using the machine because of a problem with Sony.',\n",
       "  'Sony has told owners of older models of its PlayStation 3 console to stop using the machine because of a problem with Fifa.',\n",
       "  'Sony has told owners of older models of its PlayStation 3 console to stop using the machine because of a problem with PS3 Slim.'],\n",
       " [['Sony', 'The PlayStation Network', 0, 4],\n",
       "  ['Sony', 'Fifa', 0, 4],\n",
       "  ['Sony', 'PS3 Slim', 0, 4],\n",
       "  ['PlayStation 3', 'Fat', 44, 57],\n",
       "  ['PlayStation 3', 'PS3', 44, 57],\n",
       "  ['the PlayStation Network', 'Sony', 118, 141],\n",
       "  ['the PlayStation Network', 'Fifa', 118, 141],\n",
       "  ['the PlayStation Network', 'PS3 Slim', 118, 141]])"
      ]
     },
     "execution_count": 56,
     "metadata": {},
     "output_type": "execute_result"
    }
   ],
   "source": [
    "from preprocessing.make_entity_perturbations import make_perturbations\n",
    "\n",
    "src_doc = nlp(source)\n",
    "src_doc.build_ents()\n",
    "\n",
    "tgt_doc = nlp(gt_summary)\n",
    "tgt_doc.build_ents()\n",
    "\n",
    "neg_examples, changed_list = make_perturbations(target_text=tgt_doc._text,\n",
    "                                                target_ents=tgt_doc.ents,\n",
    "                                                source_ents=src_doc.ents,\n",
    "                                                is_training_mode=True,\n",
    "                                                max_perturbation_per_example=10)\n",
    "neg_examples, changed_list"
   ]
  },
  {
   "cell_type": "code",
   "execution_count": 57,
   "metadata": {},
   "outputs": [
    {
     "data": {
      "text/plain": [
       "{'source_text': 'The problem is affecting people using the older versions of the PlayStation 3, called the \"Fat\" model.The problem isn\\'t affecting the newer PS3 Slim systems that have been on sale since September last year.Sony have also said they are aiming to have the problem fixed shortly but is advising some users to avoid using their console for the time being.\"We hope to resolve this problem within the next 24 hours,\" a statement reads. \"In the meantime, if you have a model other than the new slim PS3, we advise that you do not use your PS3 system, as doing so may result in errors in some functionality, such as recording obtained trophies, and not being able to restore certain data.\"We believe we have identified that this problem is being caused by a bug in the clock functionality incorporated in the system.\"The PlayStation Network is used by millions of people around the world.It allows users to play their friends at games like Fifa over the internet and also do things like download software or visit online stores.\\n',\n",
       " 'positive_examples': ['Sony has told owners of older models of its PlayStation 3 console to stop using the machine because of a problem with the PlayStation Network.'],\n",
       " 'negative_examples': ['Sony has told owners of older models of its PlayStation 3 console to stop using the machine because of a problem with Sony.',\n",
       "  'Sony has told owners of older models of its PlayStation 3 console to stop using the machine because of a problem with Fifa.',\n",
       "  'Fifa has told owners of older models of its PlayStation 3 console to stop using the machine because of a problem with the PlayStation Network.',\n",
       "  'PS3 Slim has told owners of older models of its PlayStation 3 console to stop using the machine because of a problem with the PlayStation Network.'],\n",
       " 'changed_list': [['the PlayStation Network', 'Sony', 118, 141],\n",
       "  ['the PlayStation Network', 'Fifa', 118, 141],\n",
       "  ['Sony', 'Fifa', 0, 4],\n",
       "  ['Sony', 'PS3 Slim', 0, 4]]}"
      ]
     },
     "execution_count": 57,
     "metadata": {},
     "output_type": "execute_result"
    }
   ],
   "source": [
    "train_set[0]"
   ]
  },
  {
   "cell_type": "code",
   "execution_count": 19,
   "metadata": {},
   "outputs": [
    {
     "name": "stdout",
     "output_type": "stream",
     "text": [
      "11315\n"
     ]
    }
   ],
   "source": [
    "import json\n",
    "\n",
    "n = 0\n",
    "with open(\"./data/paper/val.jsonl\", \"r\") as f:\n",
    "    for line in f:\n",
    "        n += 1\n",
    "print(n)"
   ]
  }
 ],
 "metadata": {
  "interpreter": {
   "hash": "ac7ebf3c48d2545a080f53c4a55787a9f29dd0b46ecf55c25cf1850888e74b76"
  },
  "kernelspec": {
   "display_name": "Python 3.8.12 ('topics-project')",
   "language": "python",
   "name": "python3"
  },
  "language_info": {
   "codemirror_mode": {
    "name": "ipython",
    "version": 3
   },
   "file_extension": ".py",
   "mimetype": "text/x-python",
   "name": "python",
   "nbconvert_exporter": "python",
   "pygments_lexer": "ipython3",
   "version": "3.8.12"
  },
  "orig_nbformat": 4
 },
 "nbformat": 4,
 "nbformat_minor": 2
}
